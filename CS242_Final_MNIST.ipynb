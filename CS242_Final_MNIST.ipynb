{
  "nbformat": 4,
  "nbformat_minor": 0,
  "metadata": {
    "colab": {
      "provenance": []
    },
    "kernelspec": {
      "name": "python3",
      "display_name": "Python 3"
    },
    "language_info": {
      "name": "python"
    },
    "widgets": {
      "application/vnd.jupyter.widget-state+json": {
        "a28fd3a45e134ce2bd680c1bcf1dd572": {
          "model_module": "@jupyter-widgets/controls",
          "model_name": "HBoxModel",
          "model_module_version": "1.5.0",
          "state": {
            "_dom_classes": [],
            "_model_module": "@jupyter-widgets/controls",
            "_model_module_version": "1.5.0",
            "_model_name": "HBoxModel",
            "_view_count": null,
            "_view_module": "@jupyter-widgets/controls",
            "_view_module_version": "1.5.0",
            "_view_name": "HBoxView",
            "box_style": "",
            "children": [
              "IPY_MODEL_0025e9fbb4a844b98d8cf7737bc2dcce",
              "IPY_MODEL_9ebc53b5a7d0402dbba5dae271a0ba4e",
              "IPY_MODEL_08442f57e59a4f3395b20048403ae95c"
            ],
            "layout": "IPY_MODEL_8d4c562aae594b1aaa99a03b7dabe6c6"
          }
        },
        "0025e9fbb4a844b98d8cf7737bc2dcce": {
          "model_module": "@jupyter-widgets/controls",
          "model_name": "HTMLModel",
          "model_module_version": "1.5.0",
          "state": {
            "_dom_classes": [],
            "_model_module": "@jupyter-widgets/controls",
            "_model_module_version": "1.5.0",
            "_model_name": "HTMLModel",
            "_view_count": null,
            "_view_module": "@jupyter-widgets/controls",
            "_view_module_version": "1.5.0",
            "_view_name": "HTMLView",
            "description": "",
            "description_tooltip": null,
            "layout": "IPY_MODEL_07ec53cbb999470282dfde9be10cf499",
            "placeholder": "​",
            "style": "IPY_MODEL_273d89007ca44d66a9611706893ba847",
            "value": "100%"
          }
        },
        "9ebc53b5a7d0402dbba5dae271a0ba4e": {
          "model_module": "@jupyter-widgets/controls",
          "model_name": "FloatProgressModel",
          "model_module_version": "1.5.0",
          "state": {
            "_dom_classes": [],
            "_model_module": "@jupyter-widgets/controls",
            "_model_module_version": "1.5.0",
            "_model_name": "FloatProgressModel",
            "_view_count": null,
            "_view_module": "@jupyter-widgets/controls",
            "_view_module_version": "1.5.0",
            "_view_name": "ProgressView",
            "bar_style": "success",
            "description": "",
            "description_tooltip": null,
            "layout": "IPY_MODEL_95289d56b7d5437ab719252c0b5910c9",
            "max": 9912422,
            "min": 0,
            "orientation": "horizontal",
            "style": "IPY_MODEL_921a029c92284fcf9f43ef6100965d8b",
            "value": 9912422
          }
        },
        "08442f57e59a4f3395b20048403ae95c": {
          "model_module": "@jupyter-widgets/controls",
          "model_name": "HTMLModel",
          "model_module_version": "1.5.0",
          "state": {
            "_dom_classes": [],
            "_model_module": "@jupyter-widgets/controls",
            "_model_module_version": "1.5.0",
            "_model_name": "HTMLModel",
            "_view_count": null,
            "_view_module": "@jupyter-widgets/controls",
            "_view_module_version": "1.5.0",
            "_view_name": "HTMLView",
            "description": "",
            "description_tooltip": null,
            "layout": "IPY_MODEL_e752ac0aaf2045cca2024732e6b24f59",
            "placeholder": "​",
            "style": "IPY_MODEL_019b2ed1cb054a269b74adc13a1764dc",
            "value": " 9912422/9912422 [00:00&lt;00:00, 18754602.23it/s]"
          }
        },
        "8d4c562aae594b1aaa99a03b7dabe6c6": {
          "model_module": "@jupyter-widgets/base",
          "model_name": "LayoutModel",
          "model_module_version": "1.2.0",
          "state": {
            "_model_module": "@jupyter-widgets/base",
            "_model_module_version": "1.2.0",
            "_model_name": "LayoutModel",
            "_view_count": null,
            "_view_module": "@jupyter-widgets/base",
            "_view_module_version": "1.2.0",
            "_view_name": "LayoutView",
            "align_content": null,
            "align_items": null,
            "align_self": null,
            "border": null,
            "bottom": null,
            "display": null,
            "flex": null,
            "flex_flow": null,
            "grid_area": null,
            "grid_auto_columns": null,
            "grid_auto_flow": null,
            "grid_auto_rows": null,
            "grid_column": null,
            "grid_gap": null,
            "grid_row": null,
            "grid_template_areas": null,
            "grid_template_columns": null,
            "grid_template_rows": null,
            "height": null,
            "justify_content": null,
            "justify_items": null,
            "left": null,
            "margin": null,
            "max_height": null,
            "max_width": null,
            "min_height": null,
            "min_width": null,
            "object_fit": null,
            "object_position": null,
            "order": null,
            "overflow": null,
            "overflow_x": null,
            "overflow_y": null,
            "padding": null,
            "right": null,
            "top": null,
            "visibility": null,
            "width": null
          }
        },
        "07ec53cbb999470282dfde9be10cf499": {
          "model_module": "@jupyter-widgets/base",
          "model_name": "LayoutModel",
          "model_module_version": "1.2.0",
          "state": {
            "_model_module": "@jupyter-widgets/base",
            "_model_module_version": "1.2.0",
            "_model_name": "LayoutModel",
            "_view_count": null,
            "_view_module": "@jupyter-widgets/base",
            "_view_module_version": "1.2.0",
            "_view_name": "LayoutView",
            "align_content": null,
            "align_items": null,
            "align_self": null,
            "border": null,
            "bottom": null,
            "display": null,
            "flex": null,
            "flex_flow": null,
            "grid_area": null,
            "grid_auto_columns": null,
            "grid_auto_flow": null,
            "grid_auto_rows": null,
            "grid_column": null,
            "grid_gap": null,
            "grid_row": null,
            "grid_template_areas": null,
            "grid_template_columns": null,
            "grid_template_rows": null,
            "height": null,
            "justify_content": null,
            "justify_items": null,
            "left": null,
            "margin": null,
            "max_height": null,
            "max_width": null,
            "min_height": null,
            "min_width": null,
            "object_fit": null,
            "object_position": null,
            "order": null,
            "overflow": null,
            "overflow_x": null,
            "overflow_y": null,
            "padding": null,
            "right": null,
            "top": null,
            "visibility": null,
            "width": null
          }
        },
        "273d89007ca44d66a9611706893ba847": {
          "model_module": "@jupyter-widgets/controls",
          "model_name": "DescriptionStyleModel",
          "model_module_version": "1.5.0",
          "state": {
            "_model_module": "@jupyter-widgets/controls",
            "_model_module_version": "1.5.0",
            "_model_name": "DescriptionStyleModel",
            "_view_count": null,
            "_view_module": "@jupyter-widgets/base",
            "_view_module_version": "1.2.0",
            "_view_name": "StyleView",
            "description_width": ""
          }
        },
        "95289d56b7d5437ab719252c0b5910c9": {
          "model_module": "@jupyter-widgets/base",
          "model_name": "LayoutModel",
          "model_module_version": "1.2.0",
          "state": {
            "_model_module": "@jupyter-widgets/base",
            "_model_module_version": "1.2.0",
            "_model_name": "LayoutModel",
            "_view_count": null,
            "_view_module": "@jupyter-widgets/base",
            "_view_module_version": "1.2.0",
            "_view_name": "LayoutView",
            "align_content": null,
            "align_items": null,
            "align_self": null,
            "border": null,
            "bottom": null,
            "display": null,
            "flex": null,
            "flex_flow": null,
            "grid_area": null,
            "grid_auto_columns": null,
            "grid_auto_flow": null,
            "grid_auto_rows": null,
            "grid_column": null,
            "grid_gap": null,
            "grid_row": null,
            "grid_template_areas": null,
            "grid_template_columns": null,
            "grid_template_rows": null,
            "height": null,
            "justify_content": null,
            "justify_items": null,
            "left": null,
            "margin": null,
            "max_height": null,
            "max_width": null,
            "min_height": null,
            "min_width": null,
            "object_fit": null,
            "object_position": null,
            "order": null,
            "overflow": null,
            "overflow_x": null,
            "overflow_y": null,
            "padding": null,
            "right": null,
            "top": null,
            "visibility": null,
            "width": null
          }
        },
        "921a029c92284fcf9f43ef6100965d8b": {
          "model_module": "@jupyter-widgets/controls",
          "model_name": "ProgressStyleModel",
          "model_module_version": "1.5.0",
          "state": {
            "_model_module": "@jupyter-widgets/controls",
            "_model_module_version": "1.5.0",
            "_model_name": "ProgressStyleModel",
            "_view_count": null,
            "_view_module": "@jupyter-widgets/base",
            "_view_module_version": "1.2.0",
            "_view_name": "StyleView",
            "bar_color": null,
            "description_width": ""
          }
        },
        "e752ac0aaf2045cca2024732e6b24f59": {
          "model_module": "@jupyter-widgets/base",
          "model_name": "LayoutModel",
          "model_module_version": "1.2.0",
          "state": {
            "_model_module": "@jupyter-widgets/base",
            "_model_module_version": "1.2.0",
            "_model_name": "LayoutModel",
            "_view_count": null,
            "_view_module": "@jupyter-widgets/base",
            "_view_module_version": "1.2.0",
            "_view_name": "LayoutView",
            "align_content": null,
            "align_items": null,
            "align_self": null,
            "border": null,
            "bottom": null,
            "display": null,
            "flex": null,
            "flex_flow": null,
            "grid_area": null,
            "grid_auto_columns": null,
            "grid_auto_flow": null,
            "grid_auto_rows": null,
            "grid_column": null,
            "grid_gap": null,
            "grid_row": null,
            "grid_template_areas": null,
            "grid_template_columns": null,
            "grid_template_rows": null,
            "height": null,
            "justify_content": null,
            "justify_items": null,
            "left": null,
            "margin": null,
            "max_height": null,
            "max_width": null,
            "min_height": null,
            "min_width": null,
            "object_fit": null,
            "object_position": null,
            "order": null,
            "overflow": null,
            "overflow_x": null,
            "overflow_y": null,
            "padding": null,
            "right": null,
            "top": null,
            "visibility": null,
            "width": null
          }
        },
        "019b2ed1cb054a269b74adc13a1764dc": {
          "model_module": "@jupyter-widgets/controls",
          "model_name": "DescriptionStyleModel",
          "model_module_version": "1.5.0",
          "state": {
            "_model_module": "@jupyter-widgets/controls",
            "_model_module_version": "1.5.0",
            "_model_name": "DescriptionStyleModel",
            "_view_count": null,
            "_view_module": "@jupyter-widgets/base",
            "_view_module_version": "1.2.0",
            "_view_name": "StyleView",
            "description_width": ""
          }
        },
        "96ca63368dbc4bab8d00d80e36fcdd71": {
          "model_module": "@jupyter-widgets/controls",
          "model_name": "HBoxModel",
          "model_module_version": "1.5.0",
          "state": {
            "_dom_classes": [],
            "_model_module": "@jupyter-widgets/controls",
            "_model_module_version": "1.5.0",
            "_model_name": "HBoxModel",
            "_view_count": null,
            "_view_module": "@jupyter-widgets/controls",
            "_view_module_version": "1.5.0",
            "_view_name": "HBoxView",
            "box_style": "",
            "children": [
              "IPY_MODEL_edcb85a051cd4982aa7c1e076c8c22bf",
              "IPY_MODEL_fa73e91237d74cc28c3feb539ae6676e",
              "IPY_MODEL_5b50f13256e54ba3b318cb897973b884"
            ],
            "layout": "IPY_MODEL_29e185d507b64269b0d5e0933233770a"
          }
        },
        "edcb85a051cd4982aa7c1e076c8c22bf": {
          "model_module": "@jupyter-widgets/controls",
          "model_name": "HTMLModel",
          "model_module_version": "1.5.0",
          "state": {
            "_dom_classes": [],
            "_model_module": "@jupyter-widgets/controls",
            "_model_module_version": "1.5.0",
            "_model_name": "HTMLModel",
            "_view_count": null,
            "_view_module": "@jupyter-widgets/controls",
            "_view_module_version": "1.5.0",
            "_view_name": "HTMLView",
            "description": "",
            "description_tooltip": null,
            "layout": "IPY_MODEL_02634cbfd2cf47619250221389b36b02",
            "placeholder": "​",
            "style": "IPY_MODEL_b42dec54e7584cf39ca0550cfde19a23",
            "value": "100%"
          }
        },
        "fa73e91237d74cc28c3feb539ae6676e": {
          "model_module": "@jupyter-widgets/controls",
          "model_name": "FloatProgressModel",
          "model_module_version": "1.5.0",
          "state": {
            "_dom_classes": [],
            "_model_module": "@jupyter-widgets/controls",
            "_model_module_version": "1.5.0",
            "_model_name": "FloatProgressModel",
            "_view_count": null,
            "_view_module": "@jupyter-widgets/controls",
            "_view_module_version": "1.5.0",
            "_view_name": "ProgressView",
            "bar_style": "success",
            "description": "",
            "description_tooltip": null,
            "layout": "IPY_MODEL_d7c2b523926f424bbf734b7701a1a1b2",
            "max": 28881,
            "min": 0,
            "orientation": "horizontal",
            "style": "IPY_MODEL_bb15b8052fb540a1a69e27e9d633e806",
            "value": 28881
          }
        },
        "5b50f13256e54ba3b318cb897973b884": {
          "model_module": "@jupyter-widgets/controls",
          "model_name": "HTMLModel",
          "model_module_version": "1.5.0",
          "state": {
            "_dom_classes": [],
            "_model_module": "@jupyter-widgets/controls",
            "_model_module_version": "1.5.0",
            "_model_name": "HTMLModel",
            "_view_count": null,
            "_view_module": "@jupyter-widgets/controls",
            "_view_module_version": "1.5.0",
            "_view_name": "HTMLView",
            "description": "",
            "description_tooltip": null,
            "layout": "IPY_MODEL_cce7811e25384f5bbdc72c915b34c35f",
            "placeholder": "​",
            "style": "IPY_MODEL_1ce5c1e4c8994799b9389e7863bd8e13",
            "value": " 28881/28881 [00:00&lt;00:00, 102919.20it/s]"
          }
        },
        "29e185d507b64269b0d5e0933233770a": {
          "model_module": "@jupyter-widgets/base",
          "model_name": "LayoutModel",
          "model_module_version": "1.2.0",
          "state": {
            "_model_module": "@jupyter-widgets/base",
            "_model_module_version": "1.2.0",
            "_model_name": "LayoutModel",
            "_view_count": null,
            "_view_module": "@jupyter-widgets/base",
            "_view_module_version": "1.2.0",
            "_view_name": "LayoutView",
            "align_content": null,
            "align_items": null,
            "align_self": null,
            "border": null,
            "bottom": null,
            "display": null,
            "flex": null,
            "flex_flow": null,
            "grid_area": null,
            "grid_auto_columns": null,
            "grid_auto_flow": null,
            "grid_auto_rows": null,
            "grid_column": null,
            "grid_gap": null,
            "grid_row": null,
            "grid_template_areas": null,
            "grid_template_columns": null,
            "grid_template_rows": null,
            "height": null,
            "justify_content": null,
            "justify_items": null,
            "left": null,
            "margin": null,
            "max_height": null,
            "max_width": null,
            "min_height": null,
            "min_width": null,
            "object_fit": null,
            "object_position": null,
            "order": null,
            "overflow": null,
            "overflow_x": null,
            "overflow_y": null,
            "padding": null,
            "right": null,
            "top": null,
            "visibility": null,
            "width": null
          }
        },
        "02634cbfd2cf47619250221389b36b02": {
          "model_module": "@jupyter-widgets/base",
          "model_name": "LayoutModel",
          "model_module_version": "1.2.0",
          "state": {
            "_model_module": "@jupyter-widgets/base",
            "_model_module_version": "1.2.0",
            "_model_name": "LayoutModel",
            "_view_count": null,
            "_view_module": "@jupyter-widgets/base",
            "_view_module_version": "1.2.0",
            "_view_name": "LayoutView",
            "align_content": null,
            "align_items": null,
            "align_self": null,
            "border": null,
            "bottom": null,
            "display": null,
            "flex": null,
            "flex_flow": null,
            "grid_area": null,
            "grid_auto_columns": null,
            "grid_auto_flow": null,
            "grid_auto_rows": null,
            "grid_column": null,
            "grid_gap": null,
            "grid_row": null,
            "grid_template_areas": null,
            "grid_template_columns": null,
            "grid_template_rows": null,
            "height": null,
            "justify_content": null,
            "justify_items": null,
            "left": null,
            "margin": null,
            "max_height": null,
            "max_width": null,
            "min_height": null,
            "min_width": null,
            "object_fit": null,
            "object_position": null,
            "order": null,
            "overflow": null,
            "overflow_x": null,
            "overflow_y": null,
            "padding": null,
            "right": null,
            "top": null,
            "visibility": null,
            "width": null
          }
        },
        "b42dec54e7584cf39ca0550cfde19a23": {
          "model_module": "@jupyter-widgets/controls",
          "model_name": "DescriptionStyleModel",
          "model_module_version": "1.5.0",
          "state": {
            "_model_module": "@jupyter-widgets/controls",
            "_model_module_version": "1.5.0",
            "_model_name": "DescriptionStyleModel",
            "_view_count": null,
            "_view_module": "@jupyter-widgets/base",
            "_view_module_version": "1.2.0",
            "_view_name": "StyleView",
            "description_width": ""
          }
        },
        "d7c2b523926f424bbf734b7701a1a1b2": {
          "model_module": "@jupyter-widgets/base",
          "model_name": "LayoutModel",
          "model_module_version": "1.2.0",
          "state": {
            "_model_module": "@jupyter-widgets/base",
            "_model_module_version": "1.2.0",
            "_model_name": "LayoutModel",
            "_view_count": null,
            "_view_module": "@jupyter-widgets/base",
            "_view_module_version": "1.2.0",
            "_view_name": "LayoutView",
            "align_content": null,
            "align_items": null,
            "align_self": null,
            "border": null,
            "bottom": null,
            "display": null,
            "flex": null,
            "flex_flow": null,
            "grid_area": null,
            "grid_auto_columns": null,
            "grid_auto_flow": null,
            "grid_auto_rows": null,
            "grid_column": null,
            "grid_gap": null,
            "grid_row": null,
            "grid_template_areas": null,
            "grid_template_columns": null,
            "grid_template_rows": null,
            "height": null,
            "justify_content": null,
            "justify_items": null,
            "left": null,
            "margin": null,
            "max_height": null,
            "max_width": null,
            "min_height": null,
            "min_width": null,
            "object_fit": null,
            "object_position": null,
            "order": null,
            "overflow": null,
            "overflow_x": null,
            "overflow_y": null,
            "padding": null,
            "right": null,
            "top": null,
            "visibility": null,
            "width": null
          }
        },
        "bb15b8052fb540a1a69e27e9d633e806": {
          "model_module": "@jupyter-widgets/controls",
          "model_name": "ProgressStyleModel",
          "model_module_version": "1.5.0",
          "state": {
            "_model_module": "@jupyter-widgets/controls",
            "_model_module_version": "1.5.0",
            "_model_name": "ProgressStyleModel",
            "_view_count": null,
            "_view_module": "@jupyter-widgets/base",
            "_view_module_version": "1.2.0",
            "_view_name": "StyleView",
            "bar_color": null,
            "description_width": ""
          }
        },
        "cce7811e25384f5bbdc72c915b34c35f": {
          "model_module": "@jupyter-widgets/base",
          "model_name": "LayoutModel",
          "model_module_version": "1.2.0",
          "state": {
            "_model_module": "@jupyter-widgets/base",
            "_model_module_version": "1.2.0",
            "_model_name": "LayoutModel",
            "_view_count": null,
            "_view_module": "@jupyter-widgets/base",
            "_view_module_version": "1.2.0",
            "_view_name": "LayoutView",
            "align_content": null,
            "align_items": null,
            "align_self": null,
            "border": null,
            "bottom": null,
            "display": null,
            "flex": null,
            "flex_flow": null,
            "grid_area": null,
            "grid_auto_columns": null,
            "grid_auto_flow": null,
            "grid_auto_rows": null,
            "grid_column": null,
            "grid_gap": null,
            "grid_row": null,
            "grid_template_areas": null,
            "grid_template_columns": null,
            "grid_template_rows": null,
            "height": null,
            "justify_content": null,
            "justify_items": null,
            "left": null,
            "margin": null,
            "max_height": null,
            "max_width": null,
            "min_height": null,
            "min_width": null,
            "object_fit": null,
            "object_position": null,
            "order": null,
            "overflow": null,
            "overflow_x": null,
            "overflow_y": null,
            "padding": null,
            "right": null,
            "top": null,
            "visibility": null,
            "width": null
          }
        },
        "1ce5c1e4c8994799b9389e7863bd8e13": {
          "model_module": "@jupyter-widgets/controls",
          "model_name": "DescriptionStyleModel",
          "model_module_version": "1.5.0",
          "state": {
            "_model_module": "@jupyter-widgets/controls",
            "_model_module_version": "1.5.0",
            "_model_name": "DescriptionStyleModel",
            "_view_count": null,
            "_view_module": "@jupyter-widgets/base",
            "_view_module_version": "1.2.0",
            "_view_name": "StyleView",
            "description_width": ""
          }
        },
        "4170166aed6347309ffcb6f734dc9308": {
          "model_module": "@jupyter-widgets/controls",
          "model_name": "HBoxModel",
          "model_module_version": "1.5.0",
          "state": {
            "_dom_classes": [],
            "_model_module": "@jupyter-widgets/controls",
            "_model_module_version": "1.5.0",
            "_model_name": "HBoxModel",
            "_view_count": null,
            "_view_module": "@jupyter-widgets/controls",
            "_view_module_version": "1.5.0",
            "_view_name": "HBoxView",
            "box_style": "",
            "children": [
              "IPY_MODEL_799c40a66f354bc5930b36c5f9d58a4d",
              "IPY_MODEL_20781878d8d74ba0bbfcfe7f49cca3b0",
              "IPY_MODEL_59be09d3680e4dfb8c72d03a339455c3"
            ],
            "layout": "IPY_MODEL_f5bb7ed845e64f2e9b64aeceda944980"
          }
        },
        "799c40a66f354bc5930b36c5f9d58a4d": {
          "model_module": "@jupyter-widgets/controls",
          "model_name": "HTMLModel",
          "model_module_version": "1.5.0",
          "state": {
            "_dom_classes": [],
            "_model_module": "@jupyter-widgets/controls",
            "_model_module_version": "1.5.0",
            "_model_name": "HTMLModel",
            "_view_count": null,
            "_view_module": "@jupyter-widgets/controls",
            "_view_module_version": "1.5.0",
            "_view_name": "HTMLView",
            "description": "",
            "description_tooltip": null,
            "layout": "IPY_MODEL_d9aacfb2c2744baaae1ecd32b41ea480",
            "placeholder": "​",
            "style": "IPY_MODEL_4e2db5a4b15e4000bda2ff36368a30ff",
            "value": "100%"
          }
        },
        "20781878d8d74ba0bbfcfe7f49cca3b0": {
          "model_module": "@jupyter-widgets/controls",
          "model_name": "FloatProgressModel",
          "model_module_version": "1.5.0",
          "state": {
            "_dom_classes": [],
            "_model_module": "@jupyter-widgets/controls",
            "_model_module_version": "1.5.0",
            "_model_name": "FloatProgressModel",
            "_view_count": null,
            "_view_module": "@jupyter-widgets/controls",
            "_view_module_version": "1.5.0",
            "_view_name": "ProgressView",
            "bar_style": "success",
            "description": "",
            "description_tooltip": null,
            "layout": "IPY_MODEL_e532466fd65443e9ba92489d577b92bd",
            "max": 1648877,
            "min": 0,
            "orientation": "horizontal",
            "style": "IPY_MODEL_7fbaea04cf3945cfbfc77a4c774a5caf",
            "value": 1648877
          }
        },
        "59be09d3680e4dfb8c72d03a339455c3": {
          "model_module": "@jupyter-widgets/controls",
          "model_name": "HTMLModel",
          "model_module_version": "1.5.0",
          "state": {
            "_dom_classes": [],
            "_model_module": "@jupyter-widgets/controls",
            "_model_module_version": "1.5.0",
            "_model_name": "HTMLModel",
            "_view_count": null,
            "_view_module": "@jupyter-widgets/controls",
            "_view_module_version": "1.5.0",
            "_view_name": "HTMLView",
            "description": "",
            "description_tooltip": null,
            "layout": "IPY_MODEL_05a385c0fdcc4cdc840daeb97b1d71f9",
            "placeholder": "​",
            "style": "IPY_MODEL_88327fb0d86a443197e41d45c439cfdc",
            "value": " 1648877/1648877 [00:00&lt;00:00, 4095782.76it/s]"
          }
        },
        "f5bb7ed845e64f2e9b64aeceda944980": {
          "model_module": "@jupyter-widgets/base",
          "model_name": "LayoutModel",
          "model_module_version": "1.2.0",
          "state": {
            "_model_module": "@jupyter-widgets/base",
            "_model_module_version": "1.2.0",
            "_model_name": "LayoutModel",
            "_view_count": null,
            "_view_module": "@jupyter-widgets/base",
            "_view_module_version": "1.2.0",
            "_view_name": "LayoutView",
            "align_content": null,
            "align_items": null,
            "align_self": null,
            "border": null,
            "bottom": null,
            "display": null,
            "flex": null,
            "flex_flow": null,
            "grid_area": null,
            "grid_auto_columns": null,
            "grid_auto_flow": null,
            "grid_auto_rows": null,
            "grid_column": null,
            "grid_gap": null,
            "grid_row": null,
            "grid_template_areas": null,
            "grid_template_columns": null,
            "grid_template_rows": null,
            "height": null,
            "justify_content": null,
            "justify_items": null,
            "left": null,
            "margin": null,
            "max_height": null,
            "max_width": null,
            "min_height": null,
            "min_width": null,
            "object_fit": null,
            "object_position": null,
            "order": null,
            "overflow": null,
            "overflow_x": null,
            "overflow_y": null,
            "padding": null,
            "right": null,
            "top": null,
            "visibility": null,
            "width": null
          }
        },
        "d9aacfb2c2744baaae1ecd32b41ea480": {
          "model_module": "@jupyter-widgets/base",
          "model_name": "LayoutModel",
          "model_module_version": "1.2.0",
          "state": {
            "_model_module": "@jupyter-widgets/base",
            "_model_module_version": "1.2.0",
            "_model_name": "LayoutModel",
            "_view_count": null,
            "_view_module": "@jupyter-widgets/base",
            "_view_module_version": "1.2.0",
            "_view_name": "LayoutView",
            "align_content": null,
            "align_items": null,
            "align_self": null,
            "border": null,
            "bottom": null,
            "display": null,
            "flex": null,
            "flex_flow": null,
            "grid_area": null,
            "grid_auto_columns": null,
            "grid_auto_flow": null,
            "grid_auto_rows": null,
            "grid_column": null,
            "grid_gap": null,
            "grid_row": null,
            "grid_template_areas": null,
            "grid_template_columns": null,
            "grid_template_rows": null,
            "height": null,
            "justify_content": null,
            "justify_items": null,
            "left": null,
            "margin": null,
            "max_height": null,
            "max_width": null,
            "min_height": null,
            "min_width": null,
            "object_fit": null,
            "object_position": null,
            "order": null,
            "overflow": null,
            "overflow_x": null,
            "overflow_y": null,
            "padding": null,
            "right": null,
            "top": null,
            "visibility": null,
            "width": null
          }
        },
        "4e2db5a4b15e4000bda2ff36368a30ff": {
          "model_module": "@jupyter-widgets/controls",
          "model_name": "DescriptionStyleModel",
          "model_module_version": "1.5.0",
          "state": {
            "_model_module": "@jupyter-widgets/controls",
            "_model_module_version": "1.5.0",
            "_model_name": "DescriptionStyleModel",
            "_view_count": null,
            "_view_module": "@jupyter-widgets/base",
            "_view_module_version": "1.2.0",
            "_view_name": "StyleView",
            "description_width": ""
          }
        },
        "e532466fd65443e9ba92489d577b92bd": {
          "model_module": "@jupyter-widgets/base",
          "model_name": "LayoutModel",
          "model_module_version": "1.2.0",
          "state": {
            "_model_module": "@jupyter-widgets/base",
            "_model_module_version": "1.2.0",
            "_model_name": "LayoutModel",
            "_view_count": null,
            "_view_module": "@jupyter-widgets/base",
            "_view_module_version": "1.2.0",
            "_view_name": "LayoutView",
            "align_content": null,
            "align_items": null,
            "align_self": null,
            "border": null,
            "bottom": null,
            "display": null,
            "flex": null,
            "flex_flow": null,
            "grid_area": null,
            "grid_auto_columns": null,
            "grid_auto_flow": null,
            "grid_auto_rows": null,
            "grid_column": null,
            "grid_gap": null,
            "grid_row": null,
            "grid_template_areas": null,
            "grid_template_columns": null,
            "grid_template_rows": null,
            "height": null,
            "justify_content": null,
            "justify_items": null,
            "left": null,
            "margin": null,
            "max_height": null,
            "max_width": null,
            "min_height": null,
            "min_width": null,
            "object_fit": null,
            "object_position": null,
            "order": null,
            "overflow": null,
            "overflow_x": null,
            "overflow_y": null,
            "padding": null,
            "right": null,
            "top": null,
            "visibility": null,
            "width": null
          }
        },
        "7fbaea04cf3945cfbfc77a4c774a5caf": {
          "model_module": "@jupyter-widgets/controls",
          "model_name": "ProgressStyleModel",
          "model_module_version": "1.5.0",
          "state": {
            "_model_module": "@jupyter-widgets/controls",
            "_model_module_version": "1.5.0",
            "_model_name": "ProgressStyleModel",
            "_view_count": null,
            "_view_module": "@jupyter-widgets/base",
            "_view_module_version": "1.2.0",
            "_view_name": "StyleView",
            "bar_color": null,
            "description_width": ""
          }
        },
        "05a385c0fdcc4cdc840daeb97b1d71f9": {
          "model_module": "@jupyter-widgets/base",
          "model_name": "LayoutModel",
          "model_module_version": "1.2.0",
          "state": {
            "_model_module": "@jupyter-widgets/base",
            "_model_module_version": "1.2.0",
            "_model_name": "LayoutModel",
            "_view_count": null,
            "_view_module": "@jupyter-widgets/base",
            "_view_module_version": "1.2.0",
            "_view_name": "LayoutView",
            "align_content": null,
            "align_items": null,
            "align_self": null,
            "border": null,
            "bottom": null,
            "display": null,
            "flex": null,
            "flex_flow": null,
            "grid_area": null,
            "grid_auto_columns": null,
            "grid_auto_flow": null,
            "grid_auto_rows": null,
            "grid_column": null,
            "grid_gap": null,
            "grid_row": null,
            "grid_template_areas": null,
            "grid_template_columns": null,
            "grid_template_rows": null,
            "height": null,
            "justify_content": null,
            "justify_items": null,
            "left": null,
            "margin": null,
            "max_height": null,
            "max_width": null,
            "min_height": null,
            "min_width": null,
            "object_fit": null,
            "object_position": null,
            "order": null,
            "overflow": null,
            "overflow_x": null,
            "overflow_y": null,
            "padding": null,
            "right": null,
            "top": null,
            "visibility": null,
            "width": null
          }
        },
        "88327fb0d86a443197e41d45c439cfdc": {
          "model_module": "@jupyter-widgets/controls",
          "model_name": "DescriptionStyleModel",
          "model_module_version": "1.5.0",
          "state": {
            "_model_module": "@jupyter-widgets/controls",
            "_model_module_version": "1.5.0",
            "_model_name": "DescriptionStyleModel",
            "_view_count": null,
            "_view_module": "@jupyter-widgets/base",
            "_view_module_version": "1.2.0",
            "_view_name": "StyleView",
            "description_width": ""
          }
        },
        "a00c2383658d4c04bd5a035a77855743": {
          "model_module": "@jupyter-widgets/controls",
          "model_name": "HBoxModel",
          "model_module_version": "1.5.0",
          "state": {
            "_dom_classes": [],
            "_model_module": "@jupyter-widgets/controls",
            "_model_module_version": "1.5.0",
            "_model_name": "HBoxModel",
            "_view_count": null,
            "_view_module": "@jupyter-widgets/controls",
            "_view_module_version": "1.5.0",
            "_view_name": "HBoxView",
            "box_style": "",
            "children": [
              "IPY_MODEL_7ee21ac0aee44d95acc9ff04bd2bcd33",
              "IPY_MODEL_4ad29a3bd8d142579621a7e8b49f50c1",
              "IPY_MODEL_d353f0460f5748999ddda1898204f3c2"
            ],
            "layout": "IPY_MODEL_ea29b91f17a04ccda151943f970913ff"
          }
        },
        "7ee21ac0aee44d95acc9ff04bd2bcd33": {
          "model_module": "@jupyter-widgets/controls",
          "model_name": "HTMLModel",
          "model_module_version": "1.5.0",
          "state": {
            "_dom_classes": [],
            "_model_module": "@jupyter-widgets/controls",
            "_model_module_version": "1.5.0",
            "_model_name": "HTMLModel",
            "_view_count": null,
            "_view_module": "@jupyter-widgets/controls",
            "_view_module_version": "1.5.0",
            "_view_name": "HTMLView",
            "description": "",
            "description_tooltip": null,
            "layout": "IPY_MODEL_d5624cbcace1490faaec158f7d149818",
            "placeholder": "​",
            "style": "IPY_MODEL_9e5ccd2f17a04a96a01d50ce5589fbd4",
            "value": "100%"
          }
        },
        "4ad29a3bd8d142579621a7e8b49f50c1": {
          "model_module": "@jupyter-widgets/controls",
          "model_name": "FloatProgressModel",
          "model_module_version": "1.5.0",
          "state": {
            "_dom_classes": [],
            "_model_module": "@jupyter-widgets/controls",
            "_model_module_version": "1.5.0",
            "_model_name": "FloatProgressModel",
            "_view_count": null,
            "_view_module": "@jupyter-widgets/controls",
            "_view_module_version": "1.5.0",
            "_view_name": "ProgressView",
            "bar_style": "success",
            "description": "",
            "description_tooltip": null,
            "layout": "IPY_MODEL_1bb017453194434c8d034a77ed25eb8f",
            "max": 4542,
            "min": 0,
            "orientation": "horizontal",
            "style": "IPY_MODEL_6ff3652b3eab43858e7944f1db42c085",
            "value": 4542
          }
        },
        "d353f0460f5748999ddda1898204f3c2": {
          "model_module": "@jupyter-widgets/controls",
          "model_name": "HTMLModel",
          "model_module_version": "1.5.0",
          "state": {
            "_dom_classes": [],
            "_model_module": "@jupyter-widgets/controls",
            "_model_module_version": "1.5.0",
            "_model_name": "HTMLModel",
            "_view_count": null,
            "_view_module": "@jupyter-widgets/controls",
            "_view_module_version": "1.5.0",
            "_view_name": "HTMLView",
            "description": "",
            "description_tooltip": null,
            "layout": "IPY_MODEL_9d74f218b91041239ebeb95ec88194d9",
            "placeholder": "​",
            "style": "IPY_MODEL_883b26456aee49f5b0c9b45e53d33f8a",
            "value": " 4542/4542 [00:00&lt;00:00, 49791.64it/s]"
          }
        },
        "ea29b91f17a04ccda151943f970913ff": {
          "model_module": "@jupyter-widgets/base",
          "model_name": "LayoutModel",
          "model_module_version": "1.2.0",
          "state": {
            "_model_module": "@jupyter-widgets/base",
            "_model_module_version": "1.2.0",
            "_model_name": "LayoutModel",
            "_view_count": null,
            "_view_module": "@jupyter-widgets/base",
            "_view_module_version": "1.2.0",
            "_view_name": "LayoutView",
            "align_content": null,
            "align_items": null,
            "align_self": null,
            "border": null,
            "bottom": null,
            "display": null,
            "flex": null,
            "flex_flow": null,
            "grid_area": null,
            "grid_auto_columns": null,
            "grid_auto_flow": null,
            "grid_auto_rows": null,
            "grid_column": null,
            "grid_gap": null,
            "grid_row": null,
            "grid_template_areas": null,
            "grid_template_columns": null,
            "grid_template_rows": null,
            "height": null,
            "justify_content": null,
            "justify_items": null,
            "left": null,
            "margin": null,
            "max_height": null,
            "max_width": null,
            "min_height": null,
            "min_width": null,
            "object_fit": null,
            "object_position": null,
            "order": null,
            "overflow": null,
            "overflow_x": null,
            "overflow_y": null,
            "padding": null,
            "right": null,
            "top": null,
            "visibility": null,
            "width": null
          }
        },
        "d5624cbcace1490faaec158f7d149818": {
          "model_module": "@jupyter-widgets/base",
          "model_name": "LayoutModel",
          "model_module_version": "1.2.0",
          "state": {
            "_model_module": "@jupyter-widgets/base",
            "_model_module_version": "1.2.0",
            "_model_name": "LayoutModel",
            "_view_count": null,
            "_view_module": "@jupyter-widgets/base",
            "_view_module_version": "1.2.0",
            "_view_name": "LayoutView",
            "align_content": null,
            "align_items": null,
            "align_self": null,
            "border": null,
            "bottom": null,
            "display": null,
            "flex": null,
            "flex_flow": null,
            "grid_area": null,
            "grid_auto_columns": null,
            "grid_auto_flow": null,
            "grid_auto_rows": null,
            "grid_column": null,
            "grid_gap": null,
            "grid_row": null,
            "grid_template_areas": null,
            "grid_template_columns": null,
            "grid_template_rows": null,
            "height": null,
            "justify_content": null,
            "justify_items": null,
            "left": null,
            "margin": null,
            "max_height": null,
            "max_width": null,
            "min_height": null,
            "min_width": null,
            "object_fit": null,
            "object_position": null,
            "order": null,
            "overflow": null,
            "overflow_x": null,
            "overflow_y": null,
            "padding": null,
            "right": null,
            "top": null,
            "visibility": null,
            "width": null
          }
        },
        "9e5ccd2f17a04a96a01d50ce5589fbd4": {
          "model_module": "@jupyter-widgets/controls",
          "model_name": "DescriptionStyleModel",
          "model_module_version": "1.5.0",
          "state": {
            "_model_module": "@jupyter-widgets/controls",
            "_model_module_version": "1.5.0",
            "_model_name": "DescriptionStyleModel",
            "_view_count": null,
            "_view_module": "@jupyter-widgets/base",
            "_view_module_version": "1.2.0",
            "_view_name": "StyleView",
            "description_width": ""
          }
        },
        "1bb017453194434c8d034a77ed25eb8f": {
          "model_module": "@jupyter-widgets/base",
          "model_name": "LayoutModel",
          "model_module_version": "1.2.0",
          "state": {
            "_model_module": "@jupyter-widgets/base",
            "_model_module_version": "1.2.0",
            "_model_name": "LayoutModel",
            "_view_count": null,
            "_view_module": "@jupyter-widgets/base",
            "_view_module_version": "1.2.0",
            "_view_name": "LayoutView",
            "align_content": null,
            "align_items": null,
            "align_self": null,
            "border": null,
            "bottom": null,
            "display": null,
            "flex": null,
            "flex_flow": null,
            "grid_area": null,
            "grid_auto_columns": null,
            "grid_auto_flow": null,
            "grid_auto_rows": null,
            "grid_column": null,
            "grid_gap": null,
            "grid_row": null,
            "grid_template_areas": null,
            "grid_template_columns": null,
            "grid_template_rows": null,
            "height": null,
            "justify_content": null,
            "justify_items": null,
            "left": null,
            "margin": null,
            "max_height": null,
            "max_width": null,
            "min_height": null,
            "min_width": null,
            "object_fit": null,
            "object_position": null,
            "order": null,
            "overflow": null,
            "overflow_x": null,
            "overflow_y": null,
            "padding": null,
            "right": null,
            "top": null,
            "visibility": null,
            "width": null
          }
        },
        "6ff3652b3eab43858e7944f1db42c085": {
          "model_module": "@jupyter-widgets/controls",
          "model_name": "ProgressStyleModel",
          "model_module_version": "1.5.0",
          "state": {
            "_model_module": "@jupyter-widgets/controls",
            "_model_module_version": "1.5.0",
            "_model_name": "ProgressStyleModel",
            "_view_count": null,
            "_view_module": "@jupyter-widgets/base",
            "_view_module_version": "1.2.0",
            "_view_name": "StyleView",
            "bar_color": null,
            "description_width": ""
          }
        },
        "9d74f218b91041239ebeb95ec88194d9": {
          "model_module": "@jupyter-widgets/base",
          "model_name": "LayoutModel",
          "model_module_version": "1.2.0",
          "state": {
            "_model_module": "@jupyter-widgets/base",
            "_model_module_version": "1.2.0",
            "_model_name": "LayoutModel",
            "_view_count": null,
            "_view_module": "@jupyter-widgets/base",
            "_view_module_version": "1.2.0",
            "_view_name": "LayoutView",
            "align_content": null,
            "align_items": null,
            "align_self": null,
            "border": null,
            "bottom": null,
            "display": null,
            "flex": null,
            "flex_flow": null,
            "grid_area": null,
            "grid_auto_columns": null,
            "grid_auto_flow": null,
            "grid_auto_rows": null,
            "grid_column": null,
            "grid_gap": null,
            "grid_row": null,
            "grid_template_areas": null,
            "grid_template_columns": null,
            "grid_template_rows": null,
            "height": null,
            "justify_content": null,
            "justify_items": null,
            "left": null,
            "margin": null,
            "max_height": null,
            "max_width": null,
            "min_height": null,
            "min_width": null,
            "object_fit": null,
            "object_position": null,
            "order": null,
            "overflow": null,
            "overflow_x": null,
            "overflow_y": null,
            "padding": null,
            "right": null,
            "top": null,
            "visibility": null,
            "width": null
          }
        },
        "883b26456aee49f5b0c9b45e53d33f8a": {
          "model_module": "@jupyter-widgets/controls",
          "model_name": "DescriptionStyleModel",
          "model_module_version": "1.5.0",
          "state": {
            "_model_module": "@jupyter-widgets/controls",
            "_model_module_version": "1.5.0",
            "_model_name": "DescriptionStyleModel",
            "_view_count": null,
            "_view_module": "@jupyter-widgets/base",
            "_view_module_version": "1.2.0",
            "_view_name": "StyleView",
            "description_width": ""
          }
        }
      }
    }
  },
  "cells": [
    {
      "cell_type": "markdown",
      "source": [
        "# **BASELINE WORK FROM PS2**"
      ],
      "metadata": {
        "id": "6rsaH4gk0ooe"
      }
    },
    {
      "cell_type": "code",
      "execution_count": 2,
      "metadata": {
        "id": "lsaB1zSvdP5G"
      },
      "outputs": [],
      "source": [
        "## Import \n",
        "\n",
        "import sys\n",
        "import time\n",
        "import os\n",
        "import math\n",
        "import torch\n",
        "import torch.nn as nn\n",
        "import torchvision\n",
        "import torchvision.transforms as transforms\n",
        "import torch.nn.functional as F\n",
        "import matplotlib.pyplot as plt\n",
        "from torch.autograd import Variable\n",
        "import numpy as np"
      ]
    },
    {
      "cell_type": "code",
      "source": [
        "# BASELINE\n",
        "\n",
        "from six.moves import urllib\n",
        "opener = urllib.request.build_opener()\n",
        "opener.addheaders = [('User-agent', 'Mozilla/5.0')]\n",
        "urllib.request.install_opener(opener)\n",
        "\n",
        "# TAKEN DIRECTLY FROM PS2\n",
        "# Run this code cell to train MNIST neural network. Do not modify!\n",
        "import torch\n",
        "import torch.nn as nn\n",
        "import torch.nn.functional as F\n",
        "import torch.optim as optim\n",
        "from torchvision import datasets, transforms\n",
        "from torch.optim.lr_scheduler import StepLR\n",
        "\n",
        "# Train an MNIST neural network. Run this code cell.\n",
        "class MNISTNet(nn.Module):\n",
        "    def __init__(self, hidden=128):\n",
        "      super(MNISTNet, self).__init__()\n",
        "\n",
        "      # First 2D convolutional layer, taking in 1 input channel (image),\n",
        "      # outputting 32 convolutional features, with a square kernel size of 3\n",
        "      self.hidden = hidden\n",
        "      self.fc1 = nn.Linear(28*28*1, self.hidden)\n",
        "      self.fc2 = nn.Linear(self.hidden, 10)\n",
        "\n",
        "    def forward(self, x):\n",
        "      x = x.view(-1, 28*28)\n",
        "      x = self.fc1(x)\n",
        "      x = F.relu(x)\n",
        "      x = self.fc2(x)\n",
        "      return F.log_softmax(x, dim=1)\n",
        "\n",
        "def train_mnist(model, device, train_loader, optimizer, epoch):\n",
        "    model.train()\n",
        "    for batch_idx, (data, target) in enumerate(train_loader):\n",
        "        data, target = data.to(device), target.to(device)\n",
        "        optimizer.zero_grad()\n",
        "        output = model(data)\n",
        "        loss = F.nll_loss(output, target)\n",
        "        loss.backward()\n",
        "        optimizer.step()\n",
        "        if batch_idx % 10000 == 0:\n",
        "            print('Train Epoch: {} [{}/{} ({:.0f}%)]\\tLoss: {:.6f}'.format(\n",
        "                epoch, batch_idx * len(data), len(train_loader.dataset),\n",
        "                100. * batch_idx / len(train_loader), loss.item()))\n",
        "\n",
        "\n",
        "def test_mnist(model, device, test_loader):\n",
        "    model.eval()\n",
        "    test_loss = 0\n",
        "    correct = 0\n",
        "    with torch.no_grad():\n",
        "        for data, target in test_loader:\n",
        "            data, target = data.to(device), target.to(device)\n",
        "            output = model(data)\n",
        "            test_loss += F.nll_loss(output, target, reduction='sum').item()  # sum up batch loss\n",
        "            pred = output.argmax(dim=1, keepdim=True)  # get the index of the max log-probability\n",
        "            correct += pred.eq(target.view_as(pred)).sum().item()\n",
        "\n",
        "    test_loss /= len(test_loader.dataset)\n",
        "\n",
        "    print('\\nTest set: Average loss: {:.4f}, Accuracy: {}/{} ({:.0f}%)\\n'.format(\n",
        "        test_loss, correct, len(test_loader.dataset),\n",
        "        100. * correct / len(test_loader.dataset)))\n",
        "\n",
        "model = MNISTNet()\n",
        "device = torch.device(\"cpu\")\n",
        "\n",
        "transform=transforms.Compose([\n",
        "    transforms.ToTensor(),\n",
        "    transforms.Normalize((0.1307,), (0.3081,))\n",
        "    ])\n",
        "dataset1_mnist = datasets.MNIST('./data_mnist', train=True, download=True,\n",
        "                    transform=transform)\n",
        "dataset2_mnist = datasets.MNIST('./data_mnist', train=False,\n",
        "                    transform=transform)\n",
        "train_loader_mnist = torch.utils.data.DataLoader(dataset1_mnist)\n",
        "test_loader_mnist = torch.utils.data.DataLoader(dataset2_mnist)\n",
        "\n",
        "optimizer = optim.Adam(model.parameters())\n",
        "\n"
      ],
      "metadata": {
        "id": "f8VFS57QdnrY",
        "colab": {
          "base_uri": "https://localhost:8080/",
          "height": 451,
          "referenced_widgets": [
            "a28fd3a45e134ce2bd680c1bcf1dd572",
            "0025e9fbb4a844b98d8cf7737bc2dcce",
            "9ebc53b5a7d0402dbba5dae271a0ba4e",
            "08442f57e59a4f3395b20048403ae95c",
            "8d4c562aae594b1aaa99a03b7dabe6c6",
            "07ec53cbb999470282dfde9be10cf499",
            "273d89007ca44d66a9611706893ba847",
            "95289d56b7d5437ab719252c0b5910c9",
            "921a029c92284fcf9f43ef6100965d8b",
            "e752ac0aaf2045cca2024732e6b24f59",
            "019b2ed1cb054a269b74adc13a1764dc",
            "96ca63368dbc4bab8d00d80e36fcdd71",
            "edcb85a051cd4982aa7c1e076c8c22bf",
            "fa73e91237d74cc28c3feb539ae6676e",
            "5b50f13256e54ba3b318cb897973b884",
            "29e185d507b64269b0d5e0933233770a",
            "02634cbfd2cf47619250221389b36b02",
            "b42dec54e7584cf39ca0550cfde19a23",
            "d7c2b523926f424bbf734b7701a1a1b2",
            "bb15b8052fb540a1a69e27e9d633e806",
            "cce7811e25384f5bbdc72c915b34c35f",
            "1ce5c1e4c8994799b9389e7863bd8e13",
            "4170166aed6347309ffcb6f734dc9308",
            "799c40a66f354bc5930b36c5f9d58a4d",
            "20781878d8d74ba0bbfcfe7f49cca3b0",
            "59be09d3680e4dfb8c72d03a339455c3",
            "f5bb7ed845e64f2e9b64aeceda944980",
            "d9aacfb2c2744baaae1ecd32b41ea480",
            "4e2db5a4b15e4000bda2ff36368a30ff",
            "e532466fd65443e9ba92489d577b92bd",
            "7fbaea04cf3945cfbfc77a4c774a5caf",
            "05a385c0fdcc4cdc840daeb97b1d71f9",
            "88327fb0d86a443197e41d45c439cfdc",
            "a00c2383658d4c04bd5a035a77855743",
            "7ee21ac0aee44d95acc9ff04bd2bcd33",
            "4ad29a3bd8d142579621a7e8b49f50c1",
            "d353f0460f5748999ddda1898204f3c2",
            "ea29b91f17a04ccda151943f970913ff",
            "d5624cbcace1490faaec158f7d149818",
            "9e5ccd2f17a04a96a01d50ce5589fbd4",
            "1bb017453194434c8d034a77ed25eb8f",
            "6ff3652b3eab43858e7944f1db42c085",
            "9d74f218b91041239ebeb95ec88194d9",
            "883b26456aee49f5b0c9b45e53d33f8a"
          ]
        },
        "outputId": "d920ed3d-806f-4392-f357-2c0f4698d8fa"
      },
      "execution_count": 1,
      "outputs": [
        {
          "output_type": "stream",
          "name": "stdout",
          "text": [
            "Downloading http://yann.lecun.com/exdb/mnist/train-images-idx3-ubyte.gz\n",
            "Downloading http://yann.lecun.com/exdb/mnist/train-images-idx3-ubyte.gz to ./data_mnist/MNIST/raw/train-images-idx3-ubyte.gz\n"
          ]
        },
        {
          "output_type": "display_data",
          "data": {
            "text/plain": [
              "  0%|          | 0/9912422 [00:00<?, ?it/s]"
            ],
            "application/vnd.jupyter.widget-view+json": {
              "version_major": 2,
              "version_minor": 0,
              "model_id": "a28fd3a45e134ce2bd680c1bcf1dd572"
            }
          },
          "metadata": {}
        },
        {
          "output_type": "stream",
          "name": "stdout",
          "text": [
            "Extracting ./data_mnist/MNIST/raw/train-images-idx3-ubyte.gz to ./data_mnist/MNIST/raw\n",
            "\n",
            "Downloading http://yann.lecun.com/exdb/mnist/train-labels-idx1-ubyte.gz\n",
            "Downloading http://yann.lecun.com/exdb/mnist/train-labels-idx1-ubyte.gz to ./data_mnist/MNIST/raw/train-labels-idx1-ubyte.gz\n"
          ]
        },
        {
          "output_type": "display_data",
          "data": {
            "text/plain": [
              "  0%|          | 0/28881 [00:00<?, ?it/s]"
            ],
            "application/vnd.jupyter.widget-view+json": {
              "version_major": 2,
              "version_minor": 0,
              "model_id": "96ca63368dbc4bab8d00d80e36fcdd71"
            }
          },
          "metadata": {}
        },
        {
          "output_type": "stream",
          "name": "stdout",
          "text": [
            "Extracting ./data_mnist/MNIST/raw/train-labels-idx1-ubyte.gz to ./data_mnist/MNIST/raw\n",
            "\n",
            "Downloading http://yann.lecun.com/exdb/mnist/t10k-images-idx3-ubyte.gz\n",
            "Downloading http://yann.lecun.com/exdb/mnist/t10k-images-idx3-ubyte.gz to ./data_mnist/MNIST/raw/t10k-images-idx3-ubyte.gz\n"
          ]
        },
        {
          "output_type": "display_data",
          "data": {
            "text/plain": [
              "  0%|          | 0/1648877 [00:00<?, ?it/s]"
            ],
            "application/vnd.jupyter.widget-view+json": {
              "version_major": 2,
              "version_minor": 0,
              "model_id": "4170166aed6347309ffcb6f734dc9308"
            }
          },
          "metadata": {}
        },
        {
          "output_type": "stream",
          "name": "stdout",
          "text": [
            "Extracting ./data_mnist/MNIST/raw/t10k-images-idx3-ubyte.gz to ./data_mnist/MNIST/raw\n",
            "\n",
            "Downloading http://yann.lecun.com/exdb/mnist/t10k-labels-idx1-ubyte.gz\n",
            "Downloading http://yann.lecun.com/exdb/mnist/t10k-labels-idx1-ubyte.gz to ./data_mnist/MNIST/raw/t10k-labels-idx1-ubyte.gz\n"
          ]
        },
        {
          "output_type": "display_data",
          "data": {
            "text/plain": [
              "  0%|          | 0/4542 [00:00<?, ?it/s]"
            ],
            "application/vnd.jupyter.widget-view+json": {
              "version_major": 2,
              "version_minor": 0,
              "model_id": "a00c2383658d4c04bd5a035a77855743"
            }
          },
          "metadata": {}
        },
        {
          "output_type": "stream",
          "name": "stdout",
          "text": [
            "Extracting ./data_mnist/MNIST/raw/t10k-labels-idx1-ubyte.gz to ./data_mnist/MNIST/raw\n",
            "\n"
          ]
        }
      ]
    },
    {
      "cell_type": "code",
      "source": [
        "## functions to show an image\n",
        "def show_img(img):\n",
        "    #img = img / 2 + 0.5     # unnormalize\n",
        "    npimg = img[0][0].numpy()\n",
        "    plt.imshow(npimg, cmap='Greys')"
      ],
      "metadata": {
        "id": "N5-26PvCd-hA"
      },
      "execution_count": null,
      "outputs": []
    },
    {
      "cell_type": "code",
      "source": [
        "# BASELINE PERFORMANCE\n",
        "optimizer = optim.Adam(model.parameters())\n",
        "\n",
        "start_time = time.time()\n",
        "\n",
        "scheduler = StepLR(optimizer, step_size=1, gamma=.1)\n",
        "for epoch in range(1, 5):\n",
        "    train_mnist(model, device, train_loader_mnist, optimizer, epoch)\n",
        "    test_mnist(model, device, test_loader_mnist)\n",
        "    scheduler.step()\n",
        "\n",
        "\n",
        "total_time = time.time() - start_time\n",
        "print('Total training time: {} seconds'.format(total_time))"
      ],
      "metadata": {
        "colab": {
          "base_uri": "https://localhost:8080/"
        },
        "id": "FMxmE4PlfjPv",
        "outputId": "9060a528-baa4-4e94-9ce8-105d74f5f965"
      },
      "execution_count": null,
      "outputs": [
        {
          "output_type": "stream",
          "name": "stdout",
          "text": [
            "Train Epoch: 1 [0/60000 (0%)]\tLoss: 2.191813\n",
            "Train Epoch: 1 [10000/60000 (17%)]\tLoss: 0.000036\n",
            "Train Epoch: 1 [20000/60000 (33%)]\tLoss: 0.000000\n",
            "Train Epoch: 1 [30000/60000 (50%)]\tLoss: 0.000102\n",
            "Train Epoch: 1 [40000/60000 (67%)]\tLoss: 0.000010\n",
            "Train Epoch: 1 [50000/60000 (83%)]\tLoss: 0.000000\n",
            "\n",
            "Test set: Average loss: 0.3483, Accuracy: 9252/10000 (93%)\n",
            "\n",
            "Train Epoch: 2 [0/60000 (0%)]\tLoss: 0.000291\n",
            "Train Epoch: 2 [10000/60000 (17%)]\tLoss: 0.000000\n",
            "Train Epoch: 2 [20000/60000 (33%)]\tLoss: 0.000000\n",
            "Train Epoch: 2 [30000/60000 (50%)]\tLoss: 0.000001\n",
            "Train Epoch: 2 [40000/60000 (67%)]\tLoss: 0.000013\n",
            "Train Epoch: 2 [50000/60000 (83%)]\tLoss: 0.000000\n",
            "\n",
            "Test set: Average loss: 0.1188, Accuracy: 9705/10000 (97%)\n",
            "\n",
            "Train Epoch: 3 [0/60000 (0%)]\tLoss: 0.012133\n",
            "Train Epoch: 3 [10000/60000 (17%)]\tLoss: 0.000000\n",
            "Train Epoch: 3 [20000/60000 (33%)]\tLoss: 0.000000\n",
            "Train Epoch: 3 [30000/60000 (50%)]\tLoss: 0.000001\n",
            "Train Epoch: 3 [40000/60000 (67%)]\tLoss: 0.000000\n",
            "Train Epoch: 3 [50000/60000 (83%)]\tLoss: 0.000000\n",
            "\n",
            "Test set: Average loss: 0.1116, Accuracy: 9739/10000 (97%)\n",
            "\n",
            "Train Epoch: 4 [0/60000 (0%)]\tLoss: 0.006701\n",
            "Train Epoch: 4 [10000/60000 (17%)]\tLoss: 0.000000\n",
            "Train Epoch: 4 [20000/60000 (33%)]\tLoss: 0.000000\n",
            "Train Epoch: 4 [30000/60000 (50%)]\tLoss: 0.000002\n",
            "Train Epoch: 4 [40000/60000 (67%)]\tLoss: 0.000000\n",
            "Train Epoch: 4 [50000/60000 (83%)]\tLoss: 0.000000\n",
            "\n",
            "Test set: Average loss: 0.1112, Accuracy: 9741/10000 (97%)\n",
            "\n",
            "Total training time: 805.0797965526581 seconds\n"
          ]
        }
      ]
    },
    {
      "cell_type": "markdown",
      "source": [
        "# **EXPLORATION OF LSHASH**"
      ],
      "metadata": {
        "id": "LsjxxICt0gme"
      }
    },
    {
      "cell_type": "code",
      "source": [
        "!pip install lshashpy3\n",
        "from lshashpy3 import LSHash\n",
        "import time"
      ],
      "metadata": {
        "colab": {
          "base_uri": "https://localhost:8080/"
        },
        "id": "V3x-5eVifkRv",
        "outputId": "a66a1c33-97b6-49e1-b211-09601c33c87c"
      },
      "execution_count": null,
      "outputs": [
        {
          "output_type": "stream",
          "name": "stdout",
          "text": [
            "Looking in indexes: https://pypi.org/simple, https://us-python.pkg.dev/colab-wheels/public/simple/\n",
            "Collecting lshashpy3\n",
            "  Downloading lshashpy3-0.0.8.tar.gz (9.0 kB)\n",
            "Building wheels for collected packages: lshashpy3\n",
            "  Building wheel for lshashpy3 (setup.py) ... \u001b[?25l\u001b[?25hdone\n",
            "  Created wheel for lshashpy3: filename=lshashpy3-0.0.8-py3-none-any.whl size=8903 sha256=2ca80e2c3916994d706b7f099e7bd4ab1a43a2ade378527c1452cff4f53f49d8\n",
            "  Stored in directory: /root/.cache/pip/wheels/32/9b/ae/27f94ba2cd85b1cd5af645fa78f90b703c9e1fb9e2b55a04e0\n",
            "Successfully built lshashpy3\n",
            "Installing collected packages: lshashpy3\n",
            "Successfully installed lshashpy3-0.0.8\n"
          ]
        }
      ]
    },
    {
      "cell_type": "code",
      "source": [
        "# create 6-bit hashes for input data of 8 dimensions:\n",
        "lsh = LSHash(6, 8, storage_config={ 'dict': None })\n",
        "\n",
        "# index vector\n",
        "lsh.index([2,3,4,5,6,7,8,9])\n",
        "\n",
        "# index vector and extra data\n",
        "print(lsh.index([10,12,99,1,5,31,2,3], extra_data=\"vec1\"))\n",
        "lsh.index([10,11,94,1,4,31,2,3], extra_data=\"vec2\")\n",
        "\n",
        "# query a data point\n",
        "top_n = 2\n",
        "nn = lsh.query([1,2,3,4,5,6,7,7], num_results=top_n, distance_func=\"euclidean\")\n",
        "print(len(nn))\n",
        "\n",
        "# unpack vector, extra data and vectorial distance\n",
        "top_n = 3\n",
        "nn = lsh.query([10,12,99,1,5,30,1,1], distance_func=\"euclidean\")\n",
        "for ((vec,extra_data),distance) in nn:\n",
        "  print(vec, extra_data, distance)"
      ],
      "metadata": {
        "colab": {
          "base_uri": "https://localhost:8080/"
        },
        "id": "LrWFx7NgroAP",
        "outputId": "852bcde9-31cf-4b9c-920f-cc1994df4a85"
      },
      "execution_count": null,
      "outputs": [
        {
          "output_type": "stream",
          "name": "stdout",
          "text": [
            "None\n",
            "1\n",
            "(10, 12, 99, 1, 5, 31, 2, 3) vec1 6\n",
            "(10, 11, 94, 1, 4, 31, 2, 3) vec2 33\n"
          ]
        }
      ]
    },
    {
      "cell_type": "code",
      "source": [
        "lsh = LSHash(16, 784, 20)\n",
        "lsh.index(dataset1_mnist[0][0].flatten().numpy())\n",
        "nn = lsh.query(dataset1_mnist[0][0].flatten().numpy(), num_results=top_n, distance_func=\"euclidean\")\n",
        "for ((vec,extra_data),distance) in nn:\n",
        "    print(extra_data, distance)"
      ],
      "metadata": {
        "id": "lEi9mPxzsDVR",
        "colab": {
          "base_uri": "https://localhost:8080/"
        },
        "outputId": "a3d40b0a-51ae-4a57-c0b8-513a88fd755c"
      },
      "execution_count": null,
      "outputs": [
        {
          "output_type": "stream",
          "name": "stdout",
          "text": [
            "None 0.0\n"
          ]
        }
      ]
    },
    {
      "cell_type": "code",
      "source": [
        "lsh.hash_tables[0].storage.keys()"
      ],
      "metadata": {
        "colab": {
          "base_uri": "https://localhost:8080/"
        },
        "id": "t5YAlKNZmvla",
        "outputId": "765b419c-ca74-4ea4-996d-912fe7660847"
      },
      "execution_count": null,
      "outputs": [
        {
          "output_type": "execute_result",
          "data": {
            "text/plain": [
              "dict_keys(['1100110101110000'])"
            ]
          },
          "metadata": {},
          "execution_count": 8
        }
      ]
    },
    {
      "cell_type": "code",
      "source": [
        "\n",
        "start_time = time.time()\n",
        "hashed_dataset1_mnist = np.array([])\n",
        "lsh = LSHash(6, 784, 128)\n",
        "\n",
        "for i, value in enumerate(dataset1_mnist):\n",
        "  if i % 1000 == 0:\n",
        "    print(i)\n",
        "  lsh.index(value[0].flatten().numpy(), extra_data=(i, value[1]))\n",
        "\n",
        "for i, value in enumerate(dataset2_mnist):\n",
        "  if i % 1000 == 0:\n",
        "    print(i)\n",
        "  lsh.index(value[0].flatten().numpy(), extra_data=(i+len(dataset1_mnist), value[1]))\n",
        "\n",
        "\n",
        "total_time = time.time() - start_time\n",
        "print('Total training time: {} seconds'.format(total_time))\n"
      ],
      "metadata": {
        "colab": {
          "base_uri": "https://localhost:8080/"
        },
        "id": "EoJXwlUGlvYX",
        "outputId": "8a058172-ae84-4881-d2d5-9294c2ee3d83"
      },
      "execution_count": null,
      "outputs": [
        {
          "output_type": "stream",
          "name": "stdout",
          "text": [
            "0\n",
            "1000\n",
            "2000\n",
            "3000\n",
            "4000\n",
            "5000\n",
            "6000\n",
            "7000\n",
            "8000\n",
            "9000\n",
            "10000\n",
            "11000\n",
            "12000\n",
            "13000\n",
            "14000\n",
            "15000\n",
            "16000\n",
            "17000\n",
            "18000\n",
            "19000\n",
            "20000\n",
            "21000\n",
            "22000\n",
            "23000\n",
            "24000\n",
            "25000\n",
            "26000\n",
            "27000\n",
            "28000\n",
            "29000\n",
            "30000\n",
            "31000\n",
            "32000\n",
            "33000\n",
            "34000\n",
            "35000\n",
            "36000\n",
            "37000\n",
            "38000\n",
            "39000\n",
            "40000\n",
            "41000\n",
            "42000\n",
            "43000\n",
            "44000\n",
            "45000\n",
            "46000\n",
            "47000\n",
            "48000\n",
            "49000\n",
            "50000\n",
            "51000\n",
            "52000\n",
            "53000\n",
            "54000\n",
            "55000\n",
            "56000\n",
            "57000\n",
            "58000\n",
            "59000\n",
            "0\n",
            "1000\n",
            "2000\n",
            "3000\n",
            "4000\n",
            "5000\n",
            "6000\n",
            "7000\n",
            "8000\n",
            "9000\n",
            "Total training time: 443.03387117385864 seconds\n"
          ]
        }
      ]
    },
    {
      "cell_type": "code",
      "source": [
        "start_time = time.time()\n",
        "\n",
        "hashed_values = {}\n",
        "label_values = {}\n",
        "\n",
        "for i, table in enumerate(lsh.hash_tables):\n",
        "  print(i)\n",
        "  for key in table.storage:\n",
        "    decimal = int(key, 2)\n",
        "    for value in table.storage[key]:\n",
        "      index = value[1][0]\n",
        "      label = value[1][1]\n",
        "\n",
        "      curr_list = hashed_values.get(index, [])\n",
        "      curr_list.append(decimal)\n",
        "\n",
        "      if (label_values.get(index, -1) > 0) and label_values.get(index, -1) != label:\n",
        "        print(\"BADBADBADBAD\")\n",
        "      label_values[index] = label \n",
        "\n",
        "      hashed_values[index] = curr_list\n",
        "  \n",
        "\n",
        "total_time = time.time() - start_time\n",
        "print('Total training time: {} seconds'.format(total_time))"
      ],
      "metadata": {
        "colab": {
          "base_uri": "https://localhost:8080/"
        },
        "id": "JZrDXMOupP-_",
        "outputId": "83570004-1707-4758-98fb-b4e5a5a03dab"
      },
      "execution_count": null,
      "outputs": [
        {
          "output_type": "stream",
          "name": "stdout",
          "text": [
            "0\n",
            "1\n",
            "2\n",
            "3\n",
            "4\n",
            "5\n",
            "6\n",
            "7\n",
            "8\n",
            "9\n",
            "10\n",
            "11\n",
            "12\n",
            "13\n",
            "14\n",
            "15\n",
            "16\n",
            "17\n",
            "18\n",
            "19\n",
            "20\n",
            "21\n",
            "22\n",
            "23\n",
            "24\n",
            "25\n",
            "26\n",
            "27\n",
            "28\n",
            "29\n",
            "30\n",
            "31\n",
            "32\n",
            "33\n",
            "34\n",
            "35\n",
            "36\n",
            "37\n",
            "38\n",
            "39\n",
            "40\n",
            "41\n",
            "42\n",
            "43\n",
            "44\n",
            "45\n",
            "46\n",
            "47\n",
            "48\n",
            "49\n",
            "50\n",
            "51\n",
            "52\n",
            "53\n",
            "54\n",
            "55\n",
            "56\n",
            "57\n",
            "58\n",
            "59\n",
            "60\n",
            "61\n",
            "62\n",
            "63\n",
            "64\n",
            "65\n",
            "66\n",
            "67\n",
            "68\n",
            "69\n",
            "70\n",
            "71\n",
            "72\n",
            "73\n",
            "74\n",
            "75\n",
            "76\n",
            "77\n",
            "78\n",
            "79\n",
            "80\n",
            "81\n",
            "82\n",
            "83\n",
            "84\n",
            "85\n",
            "86\n",
            "87\n",
            "88\n",
            "89\n",
            "90\n",
            "91\n",
            "92\n",
            "93\n",
            "94\n",
            "95\n",
            "96\n",
            "97\n",
            "98\n",
            "99\n",
            "100\n",
            "101\n",
            "102\n",
            "103\n",
            "104\n",
            "105\n",
            "106\n",
            "107\n",
            "108\n",
            "109\n",
            "110\n",
            "111\n",
            "112\n",
            "113\n",
            "114\n",
            "115\n",
            "116\n",
            "117\n",
            "118\n",
            "119\n",
            "120\n",
            "121\n",
            "122\n",
            "123\n",
            "124\n",
            "125\n",
            "126\n",
            "127\n",
            "Total training time: 19.026893615722656 seconds\n"
          ]
        }
      ]
    },
    {
      "cell_type": "code",
      "source": [],
      "metadata": {
        "id": "cxKE0pXEr57_"
      },
      "execution_count": null,
      "outputs": []
    },
    {
      "cell_type": "code",
      "source": [
        "start_time = time.time()\n",
        "\n",
        "hashed_train_x = np.array([hashed_values[0]])\n",
        "hashed_train_y = np.array([label_values[0]])\n",
        "\n",
        "for i in range(1, len(dataset1_mnist)):\n",
        "  hashed_train_x = np.append(hashed_train_x, [hashed_values[i]], axis=0)\n",
        "  hashed_train_y = np.append(hashed_train_y, label_values[i])\n",
        "\n",
        "hashed_test_x = np.array([hashed_values[len(dataset1_mnist)]])\n",
        "hashed_test_y = np.array([label_values[len(dataset1_mnist)]])\n",
        "\n",
        "for i in range(len(dataset1_mnist)+1, len(dataset1_mnist)+len(dataset2_mnist)):\n",
        "  hashed_test_x = np.append(hashed_test_x, [hashed_values[i]], axis=0)\n",
        "  hashed_test_y = np.append(hashed_test_y, label_values[i])\n",
        "\n",
        "\n",
        "total_time = time.time() - start_time\n",
        "print('Total training time: {} seconds'.format(total_time))"
      ],
      "metadata": {
        "id": "ozu81EsyxyMI",
        "colab": {
          "base_uri": "https://localhost:8080/"
        },
        "outputId": "8b18a9cc-39bb-4902-83f8-9fae2f03eb48"
      },
      "execution_count": null,
      "outputs": [
        {
          "output_type": "stream",
          "name": "stdout",
          "text": [
            "Total training time: 289.5292716026306 seconds\n"
          ]
        }
      ]
    },
    {
      "cell_type": "code",
      "source": [
        "from torch.utils.data import TensorDataset, DataLoader\n",
        "\n",
        "start_time = time.time()\n",
        "\n",
        "train_tensor_x = torch.Tensor(hashed_train_x) # transform to torch tensor\n",
        "train_tensor_y = torch.Tensor(hashed_train_y)\n",
        "\n",
        "# train_tensor_x = train_tensor_x.type(torch.LongTensor)\n",
        "train_tensor_y = train_tensor_y.type(torch.LongTensor)\n",
        "\n",
        "hashed_dataset1_mnist = TensorDataset(train_tensor_x, train_tensor_y) # create your datset\n",
        "\n",
        "test_tensor_x = torch.Tensor(hashed_test_x) # transform to torch tensor\n",
        "test_tensor_y = torch.Tensor(hashed_test_y)\n",
        "\n",
        "# test_tensor_x = test_tensor_x.type(torch.LongTensor)\n",
        "test_tensor_y = test_tensor_y.type(torch.LongTensor)\n",
        "\n",
        "hashed_dataset2_mnist = TensorDataset(test_tensor_x,test_tensor_y) # create your datset\n",
        "\n",
        "\n",
        "total_time = time.time() - start_time\n",
        "print('Total training time: {} seconds'.format(total_time))"
      ],
      "metadata": {
        "id": "9sGkzBgByi6t",
        "colab": {
          "base_uri": "https://localhost:8080/"
        },
        "outputId": "5ea8c791-862b-4214-dd8a-c0ef36df96a0"
      },
      "execution_count": null,
      "outputs": [
        {
          "output_type": "stream",
          "name": "stdout",
          "text": [
            "Total training time: 0.011150836944580078 seconds\n"
          ]
        }
      ]
    },
    {
      "cell_type": "code",
      "source": [
        "train_loader_hashed_mnist = torch.utils.data.DataLoader(hashed_dataset1_mnist)\n",
        "test_loader_hashed_mnist = torch.utils.data.DataLoader(hashed_dataset2_mnist)"
      ],
      "metadata": {
        "id": "MjEK0n8O1Jlf"
      },
      "execution_count": null,
      "outputs": []
    },
    {
      "cell_type": "code",
      "source": [
        "class HashedMNISTNet(nn.Module):\n",
        "    def __init__(self, hidden=128):\n",
        "      super(HashedMNISTNet, self).__init__()\n",
        "\n",
        "      # First 2D convolutional layer, taking in 1 input channel (image),\n",
        "      # outputting 32 convolutional features, with a square kernel size of 3\n",
        "      self.hidden = hidden\n",
        "      self.fc1 = nn.Linear(128*1, self.hidden)\n",
        "      self.fc2 = nn.Linear(self.hidden, 10)\n",
        "\n",
        "    def forward(self, x):\n",
        "      x = x.view(-1, 128)\n",
        "      x = self.fc1(x)\n",
        "      x = F.relu(x)\n",
        "      x = self.fc2(x)\n",
        "      return F.log_softmax(x, dim=1)\n",
        "\n",
        "def train_mnist(model, device, train_loader, optimizer, epoch):\n",
        "    model.train()\n",
        "    for batch_idx, (data, target) in enumerate(train_loader):\n",
        "        data, target = data.to(device), target.to(device)\n",
        "        optimizer.zero_grad()\n",
        "        output = model(data)\n",
        "        loss = F.nll_loss(output, target)\n",
        "        loss.backward()\n",
        "        optimizer.step()\n",
        "        if batch_idx % 10000 == 0:\n",
        "            print('Train Epoch: {} [{}/{} ({:.0f}%)]\\tLoss: {:.6f}'.format(\n",
        "                epoch, batch_idx * len(data), len(train_loader.dataset),\n",
        "                100. * batch_idx / len(train_loader), loss.item()))\n",
        "\n",
        "\n",
        "def test_mnist(model, device, test_loader):\n",
        "    model.eval()\n",
        "    test_loss = 0\n",
        "    correct = 0\n",
        "    with torch.no_grad():\n",
        "        for data, target in test_loader:\n",
        "            data, target = data.to(device), target.to(device)\n",
        "            output = model(data)\n",
        "            test_loss += F.nll_loss(output, target, reduction='sum').item()  # sum up batch loss\n",
        "            pred = output.argmax(dim=1, keepdim=True)  # get the index of the max log-probability\n",
        "            correct += pred.eq(target.view_as(pred)).sum().item()\n",
        "\n",
        "    test_loss /= len(test_loader.dataset)\n",
        "\n",
        "    print('\\nTest set: Average loss: {:.4f}, Accuracy: {}/{} ({:.0f}%)\\n'.format(\n",
        "        test_loss, correct, len(test_loader.dataset),\n",
        "        100. * correct / len(test_loader.dataset)))"
      ],
      "metadata": {
        "id": "slaIt8vA2PbW"
      },
      "execution_count": null,
      "outputs": []
    },
    {
      "cell_type": "code",
      "source": [
        "start_time = time.time()\n",
        "\n",
        "model = HashedMNISTNet()\n",
        "device = torch.device(\"cpu\")\n",
        "\n",
        "optimizer = optim.Adam(model.parameters())\n",
        "\n",
        "scheduler = StepLR(optimizer, step_size=1, gamma=.1)\n",
        "for epoch in range(1, 5):\n",
        "    train_mnist(model, device, train_loader_hashed_mnist, optimizer, epoch)\n",
        "    test_mnist(model, device, test_loader_hashed_mnist)\n",
        "    scheduler.step()\n",
        "\n",
        "  \n",
        "total_time = time.time() - start_time\n",
        "print('Total training time: {} seconds'.format(total_time))\n"
      ],
      "metadata": {
        "colab": {
          "base_uri": "https://localhost:8080/"
        },
        "id": "HLOaZcUm5U83",
        "outputId": "b051eb84-b53c-4907-d6ff-e24b85e665d7"
      },
      "execution_count": null,
      "outputs": [
        {
          "output_type": "stream",
          "name": "stdout",
          "text": [
            "Train Epoch: 1 [0/60000 (0%)]\tLoss: 18.155100\n",
            "Train Epoch: 1 [10000/60000 (17%)]\tLoss: 0.037339\n",
            "Train Epoch: 1 [20000/60000 (33%)]\tLoss: 0.023954\n",
            "Train Epoch: 1 [30000/60000 (50%)]\tLoss: 0.000923\n",
            "Train Epoch: 1 [40000/60000 (67%)]\tLoss: 0.565819\n",
            "Train Epoch: 1 [50000/60000 (83%)]\tLoss: 0.187714\n",
            "\n",
            "Test set: Average loss: 0.9587, Accuracy: 7439/10000 (74%)\n",
            "\n",
            "Train Epoch: 2 [0/60000 (0%)]\tLoss: 0.541676\n",
            "Train Epoch: 2 [10000/60000 (17%)]\tLoss: 0.004788\n",
            "Train Epoch: 2 [20000/60000 (33%)]\tLoss: 0.021508\n",
            "Train Epoch: 2 [30000/60000 (50%)]\tLoss: 0.000294\n",
            "Train Epoch: 2 [40000/60000 (67%)]\tLoss: 0.153680\n",
            "Train Epoch: 2 [50000/60000 (83%)]\tLoss: 0.065709\n",
            "\n",
            "Test set: Average loss: 0.5803, Accuracy: 8263/10000 (83%)\n",
            "\n",
            "Train Epoch: 3 [0/60000 (0%)]\tLoss: 0.076117\n",
            "Train Epoch: 3 [10000/60000 (17%)]\tLoss: 0.005045\n",
            "Train Epoch: 3 [20000/60000 (33%)]\tLoss: 0.057888\n",
            "Train Epoch: 3 [30000/60000 (50%)]\tLoss: 0.000446\n",
            "Train Epoch: 3 [40000/60000 (67%)]\tLoss: 0.131550\n",
            "Train Epoch: 3 [50000/60000 (83%)]\tLoss: 0.098335\n",
            "\n",
            "Test set: Average loss: 0.5121, Accuracy: 8424/10000 (84%)\n",
            "\n",
            "Train Epoch: 4 [0/60000 (0%)]\tLoss: 0.067241\n",
            "Train Epoch: 4 [10000/60000 (17%)]\tLoss: 0.006724\n",
            "Train Epoch: 4 [20000/60000 (33%)]\tLoss: 0.078101\n",
            "Train Epoch: 4 [30000/60000 (50%)]\tLoss: 0.000416\n",
            "Train Epoch: 4 [40000/60000 (67%)]\tLoss: 0.124274\n",
            "Train Epoch: 4 [50000/60000 (83%)]\tLoss: 0.100206\n",
            "\n",
            "Test set: Average loss: 0.5092, Accuracy: 8423/10000 (84%)\n",
            "\n",
            "Total training time: 273.5411477088928 seconds\n"
          ]
        }
      ]
    },
    {
      "cell_type": "code",
      "source": [
        "show_img(dataset1_mnist[0])"
      ],
      "metadata": {
        "id": "jv5DrsC69xBw",
        "colab": {
          "base_uri": "https://localhost:8080/",
          "height": 265
        },
        "outputId": "c8f76220-a187-4a16-d7c3-49d71eb4dc31"
      },
      "execution_count": null,
      "outputs": [
        {
          "output_type": "display_data",
          "data": {
            "text/plain": [
              "<Figure size 432x288 with 1 Axes>"
            ],
            "image/png": "[encoded data removed]"
          },
          "metadata": {
            "needs_background": "light"
          }
        }
      ]
    },
    {
      "cell_type": "markdown",
      "source": [
        "# **AUGMENTING**"
      ],
      "metadata": {
        "id": "uffbUUj6SMmk"
      }
    },
    {
      "cell_type": "code",
      "source": [
        "def augment_image(img, size=6):\n",
        "  new_image = img\n",
        "  # print(new_image[0][0])\n",
        "  left_index = np.random.randint(0, 28 - size)\n",
        "  top_index = np.random.randint(0, 28-size)\n",
        "  square_size = size\n",
        "  for i in range(size):\n",
        "    for j in range(size):\n",
        "      new_image[0][0][i+top_index][j+left_index] = 3\n",
        "  return new_image"
      ],
      "metadata": {
        "id": "OoMN0LcTxsXz"
      },
      "execution_count": null,
      "outputs": []
    },
    {
      "cell_type": "markdown",
      "source": [
        "# **HASHING WITH BINARY CODES**"
      ],
      "metadata": {
        "id": "C9ySGJCa2i7n"
      }
    },
    {
      "cell_type": "code",
      "source": [
        "def get_hash(lsh, img):\n",
        "  hashes = []\n",
        "  planes = lsh.uniform_planes\n",
        "\n",
        "  for plane in planes:\n",
        "    hash = lsh._hash(plane, img[0].flatten().numpy().tolist())\n",
        "\n",
        "    hash = list(hash)\n",
        "\n",
        "    for i, val in enumerate(hash):\n",
        "      hash[i] = int(hash[i])\n",
        "\n",
        "    hashes = hashes + hash\n",
        "  \n",
        "  return np.array(hashes)"
      ],
      "metadata": {
        "id": "JkrjwdpIvFqC"
      },
      "execution_count": null,
      "outputs": []
    },
    {
      "cell_type": "code",
      "source": [
        "get_hash(lsh, dataset1_mnist[0])"
      ],
      "metadata": {
        "colab": {
          "base_uri": "https://localhost:8080/"
        },
        "id": "SFNgQcH_2u7Y",
        "outputId": "9b7bc809-65cf-4374-99c8-96827a0d7823"
      },
      "execution_count": null,
      "outputs": [
        {
          "output_type": "execute_result",
          "data": {
            "text/plain": [
              "array([0, 0, 0, 1, 1, 1, 0, 0, 0, 0, 1, 0, 1, 0, 1, 1, 1, 1, 0, 1, 1, 1,\n",
              "       1, 0, 1, 1, 1, 0, 0, 1, 0, 0, 1, 0, 0, 0, 1, 1, 1, 0, 1, 1, 1, 1,\n",
              "       1, 0, 0, 0, 0, 0, 1, 1, 0, 0, 0, 0, 0, 0, 0, 0, 0, 0, 0, 0, 0, 1,\n",
              "       0, 0, 0, 0, 0, 0, 1, 1, 1, 1, 0, 0, 0, 0, 1, 0, 1, 1, 0, 1, 1, 0,\n",
              "       1, 0, 0, 0, 0, 0, 1, 1, 0, 0, 1, 1, 0, 0, 0, 1, 0, 0, 1, 1, 1, 1,\n",
              "       0, 0, 0, 0, 1, 1, 1, 0, 0, 1, 1, 1, 1, 0, 1, 0, 0, 0, 0, 1, 0, 1,\n",
              "       1, 1, 0, 0, 0, 1, 1, 1, 1, 0, 1, 1, 1, 0, 1, 1, 0, 0, 0, 1, 0, 0,\n",
              "       0, 0, 1, 0, 0, 1, 1, 1, 0, 1, 1, 0, 1, 1, 0, 0, 0, 1, 0, 1, 1, 0,\n",
              "       1, 1, 1, 0, 0, 1, 1, 1, 0, 0, 1, 0, 1, 0, 1, 0, 1, 1, 1, 0, 1, 0,\n",
              "       1, 0, 1, 0, 0, 1, 0, 1, 0, 1, 1, 0, 0, 1, 1, 0, 0, 1, 0, 1, 1, 0,\n",
              "       0, 0, 0, 0, 1, 1, 1, 0, 1, 0, 0, 1, 0, 1, 0, 1, 1, 1, 1, 1, 1, 1,\n",
              "       1, 1, 0, 1, 0, 1, 1, 0, 0, 0, 1, 1, 1, 0, 1, 1, 0, 0, 0, 1, 1, 1,\n",
              "       1, 1, 1, 1, 1, 0, 1, 0, 1, 0, 1, 0, 1, 1, 0, 1, 0, 1, 0, 1, 1, 0,\n",
              "       0, 0, 0, 0, 0, 1, 0, 0, 1, 1, 1, 1, 1, 1, 1, 0, 1, 0, 1, 0, 1, 1,\n",
              "       1, 0, 1, 0, 1, 1, 1, 0, 0, 1, 1, 1])"
            ]
          },
          "metadata": {},
          "execution_count": 11
        }
      ]
    },
    {
      "cell_type": "code",
      "source": [
        "lsh = LSHash(8, 784, 20)\n",
        "\n",
        "\n",
        "start_time = time.time()\n",
        "\n",
        "hashed_dataset_train = []\n",
        "mnist_labels_train = []\n",
        "\n",
        "hashed_dataset_test = []\n",
        "mnist_labels_test = []\n",
        "\n",
        "for image in dataset1_mnist:\n",
        "  hashed_dataset_train.append(get_hash(lsh, image))\n",
        "  mnist_labels_train.append(image[1])\n",
        "\n",
        "  #new_image = augment_image(image)\n",
        "  #hashed_dataset_train.append(get_hash(lsh, new_image))\n",
        "  #mnist_labels_train.append(image[1])\n",
        "\n",
        "\n",
        "for image in dataset2_mnist:\n",
        "  hashed_dataset_test.append(get_hash(lsh, image))\n",
        "  mnist_labels_test.append(image[1])\n",
        "\n",
        "total_time = time.time() - start_time\n",
        "print('Total training time: {} seconds'.format(total_time))"
      ],
      "metadata": {
        "id": "k24zPwYZB4QL",
        "colab": {
          "base_uri": "https://localhost:8080/"
        },
        "outputId": "905fb1aa-6549-42b4-8887-98c819a2b1d9"
      },
      "execution_count": null,
      "outputs": [
        {
          "output_type": "stream",
          "name": "stdout",
          "text": [
            "Total training time: 160.5141053199768 seconds\n"
          ]
        }
      ]
    },
    {
      "cell_type": "code",
      "source": [
        "show_img(dataset1_mnist[0])\n"
      ],
      "metadata": {
        "colab": {
          "base_uri": "https://localhost:8080/",
          "height": 265
        },
        "id": "tTAg4npBORDb",
        "outputId": "51acce18-8b24-4dc6-c77f-0aa59d8e97d6"
      },
      "execution_count": null,
      "outputs": [
        {
          "output_type": "display_data",
          "data": {
            "text/plain": [
              "<Figure size 432x288 with 1 Axes>"
            ],
            "image/png": "[encoded data removed]"
          },
          "metadata": {
            "needs_background": "light"
          }
        }
      ]
    },
    {
      "cell_type": "code",
      "source": [
        "hashed_dataset_train = np.array(hashed_dataset_train)\n",
        "mnist_labels_train = np.array(mnist_labels_train)\n",
        "\n",
        "hashed_dataset_test = np.array(hashed_dataset_test)\n",
        "mnist_labels_test = np.array(mnist_labels_test)"
      ],
      "metadata": {
        "id": "uMB6VfiPPnn8"
      },
      "execution_count": null,
      "outputs": []
    },
    {
      "cell_type": "code",
      "source": [
        "len(hashed_dataset_train[0])"
      ],
      "metadata": {
        "colab": {
          "base_uri": "https://localhost:8080/"
        },
        "id": "QU4U2qz84Yks",
        "outputId": "3dd7dfd7-84aa-4241-f0c4-41c2a0772097"
      },
      "execution_count": null,
      "outputs": [
        {
          "output_type": "execute_result",
          "data": {
            "text/plain": [
              "160"
            ]
          },
          "metadata": {},
          "execution_count": 16
        }
      ]
    },
    {
      "cell_type": "code",
      "source": [
        "from torch.utils.data import TensorDataset, DataLoader\n",
        "\n",
        "start_time = time.time()\n",
        "\n",
        "train_tensor_x = torch.Tensor(hashed_dataset_train) # transform to torch tensor\n",
        "train_tensor_y = torch.Tensor(mnist_labels_train)\n",
        "\n",
        "# train_tensor_x = train_tensor_x.type(torch.LongTensor)\n",
        "train_tensor_y = train_tensor_y.type(torch.LongTensor)\n",
        "\n",
        "hashed_dataset1_mnist = TensorDataset(train_tensor_x, train_tensor_y) # create your datset\n",
        "\n",
        "test_tensor_x = torch.Tensor(hashed_dataset_test) # transform to torch tensor\n",
        "test_tensor_y = torch.Tensor(mnist_labels_test)\n",
        "\n",
        "# test_tensor_x = test_tensor_x.type(torch.LongTensor)\n",
        "test_tensor_y = test_tensor_y.type(torch.LongTensor)\n",
        "\n",
        "hashed_dataset2_mnist = TensorDataset(test_tensor_x,test_tensor_y) # create your datset\n",
        "\n",
        "\n",
        "total_time = time.time() - start_time\n",
        "print('Total training time: {} seconds'.format(total_time))"
      ],
      "metadata": {
        "colab": {
          "base_uri": "https://localhost:8080/"
        },
        "id": "nEyAprUMSDXN",
        "outputId": "ecdde61d-4274-4e8f-e451-9d8ec120479f"
      },
      "execution_count": null,
      "outputs": [
        {
          "output_type": "stream",
          "name": "stdout",
          "text": [
            "Total training time: 0.03741908073425293 seconds\n"
          ]
        }
      ]
    },
    {
      "cell_type": "code",
      "source": [
        "train_loader_hashed_mnist = torch.utils.data.DataLoader(hashed_dataset1_mnist)\n",
        "test_loader_hashed_mnist = torch.utils.data.DataLoader(hashed_dataset2_mnist)"
      ],
      "metadata": {
        "id": "nkghGY6GSGUO"
      },
      "execution_count": null,
      "outputs": []
    },
    {
      "cell_type": "code",
      "source": [
        "class HashedMNISTNet(nn.Module):\n",
        "    def __init__(self, hidden=128):\n",
        "      super(HashedMNISTNet, self).__init__()\n",
        "\n",
        "      # First 2D convolutional layer, taking in 1 input channel (image),\n",
        "      # outputting 32 convolutional features, with a square kernel size of 3\n",
        "      self.hidden = hidden\n",
        "      self.fc1 = nn.Linear(8*20*1, self.hidden)\n",
        "      self.fc2 = nn.Linear(self.hidden, 10)\n",
        "\n",
        "    def forward(self, x):\n",
        "      x = x.view(-1, 8*20)\n",
        "      x = self.fc1(x)\n",
        "      x = F.relu(x)\n",
        "      x = self.fc2(x)\n",
        "      return F.log_softmax(x, dim=1)\n",
        "\n",
        "def train_mnist(model, device, train_loader, optimizer, epoch):\n",
        "    model.train()\n",
        "    for batch_idx, (data, target) in enumerate(train_loader):\n",
        "        data, target = data.to(device), target.to(device)\n",
        "        optimizer.zero_grad()\n",
        "        output = model(data)\n",
        "        loss = F.nll_loss(output, target)\n",
        "        loss.backward()\n",
        "        optimizer.step()\n",
        "        if batch_idx % 10000 == 0:\n",
        "            print('Train Epoch: {} [{}/{} ({:.0f}%)]\\tLoss: {:.6f}'.format(\n",
        "                epoch, batch_idx * len(data), len(train_loader.dataset),\n",
        "                100. * batch_idx / len(train_loader), loss.item()))\n",
        "\n",
        "\n",
        "def test_mnist(model, device, test_loader):\n",
        "    model.eval()\n",
        "    test_loss = 0\n",
        "    correct = 0\n",
        "    with torch.no_grad():\n",
        "        for data, target in test_loader:\n",
        "            data, target = data.to(device), target.to(device)\n",
        "            output = model(data)\n",
        "            test_loss += F.nll_loss(output, target, reduction='sum').item()  # sum up batch loss\n",
        "            pred = output.argmax(dim=1, keepdim=True)  # get the index of the max log-probability\n",
        "            correct += pred.eq(target.view_as(pred)).sum().item()\n",
        "\n",
        "    test_loss /= len(test_loader.dataset)\n",
        "\n",
        "    print('\\nTest set: Average loss: {:.4f}, Accuracy: {}/{} ({:.0f}%)\\n'.format(\n",
        "        test_loss, correct, len(test_loader.dataset),\n",
        "        100. * correct / len(test_loader.dataset)))"
      ],
      "metadata": {
        "id": "TkE7Kmb9SKu7"
      },
      "execution_count": null,
      "outputs": []
    },
    {
      "cell_type": "code",
      "source": [
        "start_time = time.time()\n",
        "\n",
        "hash_model = HashedMNISTNet()\n",
        "device = torch.device(\"cpu\")\n",
        "\n",
        "optimizer = optim.Adam(hash_model.parameters())\n",
        "\n",
        "scheduler = StepLR(optimizer, step_size=1, gamma=.1)\n",
        "for epoch in range(1, 5):\n",
        "    train_mnist(hash_model, device, train_loader_hashed_mnist, optimizer, epoch)\n",
        "    test_mnist(hash_model, device, test_loader_hashed_mnist)\n",
        "    scheduler.step()\n",
        "\n",
        "  \n",
        "total_time = time.time() - start_time\n",
        "print('Total training time: {} seconds'.format(total_time))\n"
      ],
      "metadata": {
        "colab": {
          "base_uri": "https://localhost:8080/"
        },
        "id": "X-_S91PGTZl-",
        "outputId": "177c9767-640f-4d9a-f320-fa59acb8c060"
      },
      "execution_count": null,
      "outputs": [
        {
          "output_type": "stream",
          "name": "stdout",
          "text": [
            "Train Epoch: 1 [0/60000 (0%)]\tLoss: 2.464187\n",
            "Train Epoch: 1 [10000/60000 (17%)]\tLoss: 0.006207\n",
            "Train Epoch: 1 [20000/60000 (33%)]\tLoss: 0.211246\n",
            "Train Epoch: 1 [30000/60000 (50%)]\tLoss: 0.041493\n",
            "Train Epoch: 1 [40000/60000 (67%)]\tLoss: 0.129371\n",
            "Train Epoch: 1 [50000/60000 (83%)]\tLoss: 0.002381\n",
            "\n",
            "Test set: Average loss: 0.3522, Accuracy: 8905/10000 (89%)\n",
            "\n",
            "Train Epoch: 2 [0/60000 (0%)]\tLoss: 0.255702\n",
            "Train Epoch: 2 [10000/60000 (17%)]\tLoss: 0.000061\n",
            "Train Epoch: 2 [20000/60000 (33%)]\tLoss: 0.000955\n",
            "Train Epoch: 2 [30000/60000 (50%)]\tLoss: 0.001060\n",
            "Train Epoch: 2 [40000/60000 (67%)]\tLoss: 0.001258\n",
            "Train Epoch: 2 [50000/60000 (83%)]\tLoss: 0.047938\n",
            "\n",
            "Test set: Average loss: 0.2323, Accuracy: 9264/10000 (93%)\n",
            "\n",
            "Train Epoch: 3 [0/60000 (0%)]\tLoss: 0.216819\n",
            "Train Epoch: 3 [10000/60000 (17%)]\tLoss: 0.000050\n",
            "Train Epoch: 3 [20000/60000 (33%)]\tLoss: 0.002444\n",
            "Train Epoch: 3 [30000/60000 (50%)]\tLoss: 0.001020\n",
            "Train Epoch: 3 [40000/60000 (67%)]\tLoss: 0.000642\n",
            "Train Epoch: 3 [50000/60000 (83%)]\tLoss: 0.024927\n",
            "\n",
            "Test set: Average loss: 0.2219, Accuracy: 9289/10000 (93%)\n",
            "\n",
            "Train Epoch: 4 [0/60000 (0%)]\tLoss: 0.231812\n",
            "Train Epoch: 4 [10000/60000 (17%)]\tLoss: 0.000034\n",
            "Train Epoch: 4 [20000/60000 (33%)]\tLoss: 0.003642\n",
            "Train Epoch: 4 [30000/60000 (50%)]\tLoss: 0.000816\n",
            "Train Epoch: 4 [40000/60000 (67%)]\tLoss: 0.000537\n",
            "Train Epoch: 4 [50000/60000 (83%)]\tLoss: 0.025276\n",
            "\n",
            "Test set: Average loss: 0.2214, Accuracy: 9288/10000 (93%)\n",
            "\n",
            "Total training time: 294.2663822174072 seconds\n"
          ]
        }
      ]
    },
    {
      "cell_type": "code",
      "source": [
        "  len(hashed_dataset1_mnist)"
      ],
      "metadata": {
        "colab": {
          "base_uri": "https://localhost:8080/"
        },
        "id": "BrH8XcE9_DDC",
        "outputId": "217a19f6-f31e-4f3a-b5c7-98a426e3ff09"
      },
      "execution_count": null,
      "outputs": [
        {
          "output_type": "execute_result",
          "data": {
            "text/plain": [
              "60000"
            ]
          },
          "metadata": {},
          "execution_count": 28
        }
      ]
    },
    {
      "cell_type": "code",
      "source": [
        "hashed_dataset1_mnist[0]"
      ],
      "metadata": {
        "colab": {
          "base_uri": "https://localhost:8080/"
        },
        "id": "EdnvhwuwTeUG",
        "outputId": "55b60b50-0472-4e36-858f-23ea0215e0e6"
      },
      "execution_count": null,
      "outputs": [
        {
          "output_type": "execute_result",
          "data": {
            "text/plain": [
              "(tensor([1., 1., 1., 1., 1., 1., 1., 0., 0., 1., 1., 0., 1., 1., 0., 0., 0., 1.,\n",
              "         1., 0., 1., 0., 0., 0., 1., 1., 0., 0., 1., 1., 0., 0., 0., 0., 1., 0.,\n",
              "         1., 0., 1., 0., 1., 1., 1., 0., 1., 0., 0., 1., 1., 1., 1., 1., 1., 0.,\n",
              "         0., 0., 0., 1., 1., 0., 1., 1., 1., 0., 1., 0., 0., 0., 1., 1., 1., 1.,\n",
              "         0., 1., 0., 1., 1., 0., 0., 1., 0., 1., 1., 0., 0., 0., 0., 1., 0., 1.,\n",
              "         0., 0., 0., 1., 0., 0., 1., 0., 1., 0., 1., 0., 1., 0., 1., 1., 0., 1.,\n",
              "         0., 0., 1., 0., 1., 0., 1., 0., 0., 1., 0., 1., 1., 1., 0., 0., 0., 0.,\n",
              "         1., 1., 1., 0., 1., 1., 0., 0., 1., 0., 1., 1., 0., 0., 1., 0., 0., 0.,\n",
              "         0., 0., 1., 0., 0., 0., 1., 0., 1., 0., 0., 0., 0., 0., 0., 1.]),\n",
              " tensor(5))"
            ]
          },
          "metadata": {},
          "execution_count": 29
        }
      ]
    },
    {
      "cell_type": "code",
      "source": [],
      "metadata": {
        "id": "9RSOM_Hxx17s"
      },
      "execution_count": null,
      "outputs": []
    },
    {
      "cell_type": "markdown",
      "source": [
        "# **MEMORY**"
      ],
      "metadata": {
        "id": "yBQ2vZB26Y9D"
      }
    },
    {
      "cell_type": "code",
      "source": [
        "!pip install memory-profiler \n",
        "from memory_profiler import memory_usage"
      ],
      "metadata": {
        "colab": {
          "base_uri": "https://localhost:8080/"
        },
        "id": "OIkyI90j6dlB",
        "outputId": "ea99e1f4-20cb-456b-e545-874ddef77464"
      },
      "execution_count": null,
      "outputs": [
        {
          "output_type": "stream",
          "name": "stdout",
          "text": [
            "Looking in indexes: https://pypi.org/simple, https://us-python.pkg.dev/colab-wheels/public/simple/\n",
            "Collecting memory-profiler\n",
            "  Downloading memory_profiler-0.61.0-py3-none-any.whl (31 kB)\n",
            "Requirement already satisfied: psutil in /usr/local/lib/python3.7/dist-packages (from memory-profiler) (5.4.8)\n",
            "Installing collected packages: memory-profiler\n",
            "Successfully installed memory-profiler-0.61.0\n"
          ]
        }
      ]
    },
    {
      "cell_type": "code",
      "source": [
        "bits = 1\n",
        "\n",
        "mods = list(model.modules())\n",
        "for i in range(1,len(mods)):\n",
        "    m = mods[i]\n",
        "    p = list(m.parameters())\n",
        "    sizes = []\n",
        "    for j in range(len(p)):\n",
        "        sizes.append(np.array(p[j].size()))\n",
        "\n",
        "total_bits = 0\n",
        "for i in range(len(sizes)):\n",
        "    s = sizes[i]\n",
        "    bits = np.prod(np.array(s))*bits\n",
        "    total_bits += bits\n",
        "\n",
        "print(total_bits) "
      ],
      "metadata": {
        "colab": {
          "base_uri": "https://localhost:8080/"
        },
        "id": "E3YlS7U16ghw",
        "outputId": "13ecff3d-f03c-49f7-87d6-cdf784310679"
      },
      "execution_count": null,
      "outputs": [
        {
          "output_type": "stream",
          "name": "stdout",
          "text": [
            "14080\n"
          ]
        }
      ]
    },
    {
      "cell_type": "code",
      "source": [
        "!pip install torchinfo"
      ],
      "metadata": {
        "colab": {
          "base_uri": "https://localhost:8080/"
        },
        "id": "RO4_2Mye8U_g",
        "outputId": "ea158d37-2bb8-450e-cef4-66c12916825d"
      },
      "execution_count": null,
      "outputs": [
        {
          "output_type": "stream",
          "name": "stdout",
          "text": [
            "Looking in indexes: https://pypi.org/simple, https://us-python.pkg.dev/colab-wheels/public/simple/\n",
            "Collecting torchinfo\n",
            "  Downloading torchinfo-1.7.1-py3-none-any.whl (22 kB)\n",
            "Installing collected packages: torchinfo\n",
            "Successfully installed torchinfo-1.7.1\n"
          ]
        }
      ]
    },
    {
      "cell_type": "code",
      "source": [
        "from torchinfo import summary\n",
        "\n",
        "batch_size = 10000\n",
        "summary(model, input_size=(batch_size, 1, 28, 28))"
      ],
      "metadata": {
        "colab": {
          "base_uri": "https://localhost:8080/"
        },
        "id": "7JRX5qem8yk6",
        "outputId": "c1c93b15-4409-454d-d1ea-a2b77dfbef90"
      },
      "execution_count": null,
      "outputs": [
        {
          "output_type": "execute_result",
          "data": {
            "text/plain": [
              "==========================================================================================\n",
              "Layer (type:depth-idx)                   Output Shape              Param #\n",
              "==========================================================================================\n",
              "MNISTNet                                 [10000, 10]               --\n",
              "├─Linear: 1-1                            [10000, 128]              100,480\n",
              "├─Linear: 1-2                            [10000, 10]               1,290\n",
              "==========================================================================================\n",
              "Total params: 101,770\n",
              "Trainable params: 101,770\n",
              "Non-trainable params: 0\n",
              "Total mult-adds (G): 1.02\n",
              "==========================================================================================\n",
              "Input size (MB): 31.36\n",
              "Forward/backward pass size (MB): 11.04\n",
              "Params size (MB): 0.41\n",
              "Estimated Total Size (MB): 42.81\n",
              "=========================================================================================="
            ]
          },
          "metadata": {},
          "execution_count": 48
        }
      ]
    },
    {
      "cell_type": "code",
      "source": [
        "batch_size = 10000\n",
        "summary(hash_model, input_size=(batch_size, 1, 160, 1))"
      ],
      "metadata": {
        "colab": {
          "base_uri": "https://localhost:8080/"
        },
        "id": "8vxNW_pk9i0M",
        "outputId": "39019bd6-41ef-41f7-d512-70a90b27aee5"
      },
      "execution_count": null,
      "outputs": [
        {
          "output_type": "execute_result",
          "data": {
            "text/plain": [
              "==========================================================================================\n",
              "Layer (type:depth-idx)                   Output Shape              Param #\n",
              "==========================================================================================\n",
              "HashedMNISTNet                           [10000, 10]               --\n",
              "├─Linear: 1-1                            [10000, 128]              20,608\n",
              "├─Linear: 1-2                            [10000, 10]               1,290\n",
              "==========================================================================================\n",
              "Total params: 21,898\n",
              "Trainable params: 21,898\n",
              "Non-trainable params: 0\n",
              "Total mult-adds (M): 218.98\n",
              "==========================================================================================\n",
              "Input size (MB): 6.40\n",
              "Forward/backward pass size (MB): 11.04\n",
              "Params size (MB): 0.09\n",
              "Estimated Total Size (MB): 17.53\n",
              "=========================================================================================="
            ]
          },
          "metadata": {},
          "execution_count": 47
        }
      ]
    },
    {
      "cell_type": "code",
      "source": [],
      "metadata": {
        "id": "GyRJNmfv93bm"
      },
      "execution_count": null,
      "outputs": []
    },
    {
      "cell_type": "markdown",
      "source": [
        "# **TESTING OF PARAMETERS**\n"
      ],
      "metadata": {
        "id": "BTkeqWjQCrl2"
      }
    },
    {
      "cell_type": "code",
      "source": [],
      "metadata": {
        "id": "n7vHb-O6CsSc"
      },
      "execution_count": null,
      "outputs": []
    },
    {
      "cell_type": "code",
      "source": [
        "def get_hash(lsh, img):\n",
        "  hashes = []\n",
        "  planes = lsh.uniform_planes\n",
        "\n",
        "  for plane in planes:\n",
        "    hash = lsh._hash(plane, img[0].flatten().numpy().tolist())\n",
        "\n",
        "    hash = list(hash)\n",
        "\n",
        "    for i, val in enumerate(hash):\n",
        "      hash[i] = int(hash[i])\n",
        "\n",
        "    hashes = hashes + hash\n",
        "  \n",
        "  return np.array(hashes)"
      ],
      "metadata": {
        "id": "EPWj0ZHRCsft"
      },
      "execution_count": null,
      "outputs": []
    },
    {
      "cell_type": "code",
      "source": [
        "get_hash(lsh, dataset1_mnist[0])"
      ],
      "metadata": {
        "colab": {
          "base_uri": "https://localhost:8080/"
        },
        "outputId": "73966928-f067-4d13-cc37-219a1fbde77a",
        "id": "xbXt1YfNCsfu"
      },
      "execution_count": null,
      "outputs": [
        {
          "output_type": "execute_result",
          "data": {
            "text/plain": [
              "array([1, 1, 1, 1, 1, 1, 1, 0, 0, 1, 1, 0, 1, 1, 0, 0, 0, 1, 1, 0, 1, 0,\n",
              "       0, 0, 1, 1, 0, 0, 1, 1, 0, 0, 0, 0, 1, 0, 1, 0, 1, 0, 1, 1, 1, 0,\n",
              "       1, 0, 0, 1, 1, 1, 1, 1, 1, 0, 0, 0, 0, 1, 1, 0, 1, 1, 1, 0, 1, 0,\n",
              "       0, 0, 1, 1, 1, 1, 0, 1, 0, 1, 1, 0, 0, 1, 0, 1, 1, 0, 0, 0, 0, 1,\n",
              "       0, 1, 0, 0, 0, 1, 0, 0, 1, 0, 1, 0, 1, 0, 1, 0, 1, 1, 0, 1, 0, 0,\n",
              "       1, 0, 1, 0, 1, 0, 0, 1, 0, 1, 1, 1, 0, 0, 0, 0, 1, 1, 1, 0, 1, 1,\n",
              "       0, 0, 1, 0, 1, 1, 0, 0, 1, 0, 0, 0, 0, 0, 1, 0, 0, 0, 1, 0, 1, 0,\n",
              "       0, 0, 0, 0, 0, 1])"
            ]
          },
          "metadata": {},
          "execution_count": 50
        }
      ]
    },
    {
      "cell_type": "code",
      "source": [
        "lsh = LSHash(1, 784, 20)\n",
        "\n",
        "\n",
        "start_time = time.time()\n",
        "\n",
        "hashed_dataset_train_1 = []\n",
        "mnist_labels_train_1 = []\n",
        "\n",
        "hashed_dataset_test_1 = []\n",
        "mnist_labels_test_1 = []\n",
        "\n",
        "for image in dataset1_mnist:\n",
        "  hashed_dataset_train_1.append(get_hash(lsh, image))\n",
        "  mnist_labels_train_1.append(image[1])\n",
        "\n",
        "  #new_image = augment_image(image)\n",
        "  #hashed_dataset_train.append(get_hash(lsh, new_image))\n",
        "  #mnist_labels_train.append(image[1])\n",
        "\n",
        "\n",
        "for image in dataset2_mnist:\n",
        "  hashed_dataset_test_1.append(get_hash(lsh, image))\n",
        "  mnist_labels_test_1.append(image[1])\n",
        "\n",
        "total_time = time.time() - start_time\n",
        "print('Total training time: {} seconds'.format(total_time))"
      ],
      "metadata": {
        "colab": {
          "base_uri": "https://localhost:8080/"
        },
        "outputId": "2f30d2ed-364f-42e1-a8e2-3706726a3e9c",
        "id": "3BicnQtACsfv"
      },
      "execution_count": null,
      "outputs": [
        {
          "output_type": "stream",
          "name": "stdout",
          "text": [
            "Total training time: 173.80100297927856 seconds\n"
          ]
        }
      ]
    },
    {
      "cell_type": "code",
      "source": [
        "show_img(dataset1_mnist[0])\n"
      ],
      "metadata": {
        "colab": {
          "base_uri": "https://localhost:8080/",
          "height": 265
        },
        "outputId": "51acce18-8b24-4dc6-c77f-0aa59d8e97d6",
        "id": "66DoB1J8Csfw"
      },
      "execution_count": null,
      "outputs": [
        {
          "output_type": "display_data",
          "data": {
            "text/plain": [
              "<Figure size 432x288 with 1 Axes>"
            ],
            "image/png": "[encoded data removed]"
          },
          "metadata": {
            "needs_background": "light"
          }
        }
      ]
    },
    {
      "cell_type": "code",
      "source": [
        "hashed_dataset_train_1 = np.array(hashed_dataset_train_1)\n",
        "mnist_labels_train_1 = np.array(mnist_labels_train_1)\n",
        "\n",
        "hashed_dataset_test_1 = np.array(hashed_dataset_test_1)\n",
        "mnist_labels_test_1 = np.array(mnist_labels_test_1)"
      ],
      "metadata": {
        "id": "-1wYdl4YCsfx"
      },
      "execution_count": null,
      "outputs": []
    },
    {
      "cell_type": "code",
      "source": [
        "len(hashed_dataset_train[0])"
      ],
      "metadata": {
        "colab": {
          "base_uri": "https://localhost:8080/"
        },
        "outputId": "3dd7dfd7-84aa-4241-f0c4-41c2a0772097",
        "id": "F95-gO2SCsfx"
      },
      "execution_count": null,
      "outputs": [
        {
          "output_type": "execute_result",
          "data": {
            "text/plain": [
              "160"
            ]
          },
          "metadata": {},
          "execution_count": 16
        }
      ]
    },
    {
      "cell_type": "code",
      "source": [
        "from torch.utils.data import TensorDataset, DataLoader\n",
        "\n",
        "start_time = time.time()\n",
        "\n",
        "train_tensor_x_1 = torch.Tensor(hashed_dataset_train_1) # transform to torch tensor\n",
        "train_tensor_y_1 = torch.Tensor(mnist_labels_train_1)\n",
        "\n",
        "# train_tensor_x = train_tensor_x.type(torch.LongTensor)\n",
        "train_tensor_y_1 = train_tensor_y_1.type(torch.LongTensor)\n",
        "\n",
        "hashed_dataset1_mnist_1 = TensorDataset(train_tensor_x_1, train_tensor_y_1) # create your datset\n",
        "\n",
        "test_tensor_x_1 = torch.Tensor(hashed_dataset_test_1) # transform to torch tensor\n",
        "test_tensor_y_1 = torch.Tensor(mnist_labels_test_1)\n",
        "\n",
        "# test_tensor_x = test_tensor_x.type(torch.LongTensor)\n",
        "test_tensor_y_1 = test_tensor_y_1.type(torch.LongTensor)\n",
        "\n",
        "hashed_dataset2_mnist_1 = TensorDataset(test_tensor_x_1,test_tensor_y_1) # create your datset\n",
        "\n",
        "\n",
        "total_time = time.time() - start_time\n",
        "print('Total training time: {} seconds'.format(total_time))"
      ],
      "metadata": {
        "colab": {
          "base_uri": "https://localhost:8080/"
        },
        "outputId": "bae63a07-e631-4458-ec6b-09e9cc3b9987",
        "id": "o3o4yZScCsfy"
      },
      "execution_count": null,
      "outputs": [
        {
          "output_type": "stream",
          "name": "stdout",
          "text": [
            "Total training time: 0.005821704864501953 seconds\n"
          ]
        }
      ]
    },
    {
      "cell_type": "code",
      "source": [
        "train_loader_hashed_mnist_1 = torch.utils.data.DataLoader(hashed_dataset1_mnist_1)\n",
        "test_loader_hashed_mnist_1 = torch.utils.data.DataLoader(hashed_dataset2_mnist_1)"
      ],
      "metadata": {
        "id": "ZVRQL__CCsfz"
      },
      "execution_count": null,
      "outputs": []
    },
    {
      "cell_type": "code",
      "source": [
        "class HashedMNISTNet(nn.Module):\n",
        "    def __init__(self, hidden=128):\n",
        "      super(HashedMNISTNet, self).__init__()\n",
        "\n",
        "      # First 2D convolutional layer, taking in 1 input channel (image),\n",
        "      # outputting 32 convolutional features, with a square kernel size of 3\n",
        "      self.hidden = hidden\n",
        "      self.fc1 = nn.Linear(1*20*1, self.hidden)\n",
        "      self.fc2 = nn.Linear(self.hidden, 10)\n",
        "\n",
        "    def forward(self, x):\n",
        "      x = x.view(-1, 1*20)\n",
        "      x = self.fc1(x)\n",
        "      x = F.relu(x)\n",
        "      x = self.fc2(x)\n",
        "      return F.log_softmax(x, dim=1)\n",
        "\n",
        "def train_mnist(model, device, train_loader, optimizer, epoch):\n",
        "    model.train()\n",
        "    for batch_idx, (data, target) in enumerate(train_loader):\n",
        "        data, target = data.to(device), target.to(device)\n",
        "        optimizer.zero_grad()\n",
        "        output = model(data)\n",
        "        loss = F.nll_loss(output, target)\n",
        "        loss.backward()\n",
        "        optimizer.step()\n",
        "        if batch_idx % 10000 == 0:\n",
        "            print('Train Epoch: {} [{}/{} ({:.0f}%)]\\tLoss: {:.6f}'.format(\n",
        "                epoch, batch_idx * len(data), len(train_loader.dataset),\n",
        "                100. * batch_idx / len(train_loader), loss.item()))\n",
        "\n",
        "\n",
        "def test_mnist(model, device, test_loader):\n",
        "    model.eval()\n",
        "    test_loss = 0\n",
        "    correct = 0\n",
        "    with torch.no_grad():\n",
        "        for data, target in test_loader:\n",
        "            data, target = data.to(device), target.to(device)\n",
        "            output = model(data)\n",
        "            test_loss += F.nll_loss(output, target, reduction='sum').item()  # sum up batch loss\n",
        "            pred = output.argmax(dim=1, keepdim=True)  # get the index of the max log-probability\n",
        "            correct += pred.eq(target.view_as(pred)).sum().item()\n",
        "\n",
        "    test_loss /= len(test_loader.dataset)\n",
        "\n",
        "    print('\\nTest set: Average loss: {:.4f}, Accuracy: {}/{} ({:.0f}%)\\n'.format(\n",
        "        test_loss, correct, len(test_loader.dataset),\n",
        "        100. * correct / len(test_loader.dataset)))"
      ],
      "metadata": {
        "id": "R720N1DxCsf0"
      },
      "execution_count": null,
      "outputs": []
    },
    {
      "cell_type": "code",
      "source": [
        "start_time = time.time()\n",
        "\n",
        "hash_model_1 = HashedMNISTNet()\n",
        "device = torch.device(\"cpu\")\n",
        "\n",
        "optimizer = optim.Adam(hash_model_1.parameters())\n",
        "\n",
        "scheduler = StepLR(optimizer, step_size=1, gamma=.1)\n",
        "for epoch in range(1, 5):\n",
        "    train_mnist(hash_model_1, device, train_loader_hashed_mnist_1, optimizer, epoch)\n",
        "    test_mnist(hash_model_1, device, test_loader_hashed_mnist_1)\n",
        "    scheduler.step()\n",
        "\n",
        "  \n",
        "total_time = time.time() - start_time\n",
        "print('Total training time: {} seconds'.format(total_time))\n"
      ],
      "metadata": {
        "colab": {
          "base_uri": "https://localhost:8080/"
        },
        "outputId": "ec52f4ca-dd71-4ccc-f81d-2f3e4fddf549",
        "id": "M6GjK6leCsf1"
      },
      "execution_count": null,
      "outputs": [
        {
          "output_type": "stream",
          "name": "stdout",
          "text": [
            "Train Epoch: 1 [0/60000 (0%)]\tLoss: 2.596684\n",
            "Train Epoch: 1 [10000/60000 (17%)]\tLoss: 0.076542\n",
            "Train Epoch: 1 [20000/60000 (33%)]\tLoss: 0.113608\n",
            "Train Epoch: 1 [30000/60000 (50%)]\tLoss: 0.765119\n",
            "Train Epoch: 1 [40000/60000 (67%)]\tLoss: 1.738572\n",
            "Train Epoch: 1 [50000/60000 (83%)]\tLoss: 2.358983\n",
            "\n",
            "Test set: Average loss: 1.1034, Accuracy: 6321/10000 (63%)\n",
            "\n",
            "Train Epoch: 2 [0/60000 (0%)]\tLoss: 6.897697\n",
            "Train Epoch: 2 [10000/60000 (17%)]\tLoss: 0.032530\n",
            "Train Epoch: 2 [20000/60000 (33%)]\tLoss: 0.243426\n",
            "Train Epoch: 2 [30000/60000 (50%)]\tLoss: 1.035918\n",
            "Train Epoch: 2 [40000/60000 (67%)]\tLoss: 0.617405\n",
            "Train Epoch: 2 [50000/60000 (83%)]\tLoss: 3.769749\n",
            "\n",
            "Test set: Average loss: 0.9948, Accuracy: 6683/10000 (67%)\n",
            "\n",
            "Train Epoch: 3 [0/60000 (0%)]\tLoss: 6.024643\n",
            "Train Epoch: 3 [10000/60000 (17%)]\tLoss: 0.023033\n",
            "Train Epoch: 3 [20000/60000 (33%)]\tLoss: 0.336056\n",
            "Train Epoch: 3 [30000/60000 (50%)]\tLoss: 0.992392\n",
            "Train Epoch: 3 [40000/60000 (67%)]\tLoss: 0.666775\n",
            "Train Epoch: 3 [50000/60000 (83%)]\tLoss: 3.522097\n",
            "\n",
            "Test set: Average loss: 0.9878, Accuracy: 6728/10000 (67%)\n",
            "\n",
            "Train Epoch: 4 [0/60000 (0%)]\tLoss: 5.763619\n",
            "Train Epoch: 4 [10000/60000 (17%)]\tLoss: 0.026225\n",
            "Train Epoch: 4 [20000/60000 (33%)]\tLoss: 0.317124\n",
            "Train Epoch: 4 [30000/60000 (50%)]\tLoss: 1.047282\n",
            "Train Epoch: 4 [40000/60000 (67%)]\tLoss: 0.660793\n",
            "Train Epoch: 4 [50000/60000 (83%)]\tLoss: 3.478806\n",
            "\n",
            "Test set: Average loss: 0.9875, Accuracy: 6734/10000 (67%)\n",
            "\n",
            "Total training time: 196.7670018672943 seconds\n"
          ]
        }
      ]
    },
    {
      "cell_type": "code",
      "source": [
        "\n",
        "\n",
        "\n",
        "\n"
      ],
      "metadata": {
        "id": "TPARApCSDrOa"
      },
      "execution_count": null,
      "outputs": []
    },
    {
      "cell_type": "code",
      "source": [],
      "metadata": {
        "id": "I6D_xOrjKpQh"
      },
      "execution_count": null,
      "outputs": []
    },
    {
      "cell_type": "code",
      "source": [
        "lsh = LSHash(2, 784, 20)\n",
        "\n",
        "\n",
        "start_time = time.time()\n",
        "\n",
        "hashed_dataset_train_1 = []\n",
        "mnist_labels_train_1 = []\n",
        "\n",
        "hashed_dataset_test_1 = []\n",
        "mnist_labels_test_1 = []\n",
        "\n",
        "for image in dataset1_mnist:\n",
        "  hashed_dataset_train_1.append(get_hash(lsh, image))\n",
        "  mnist_labels_train_1.append(image[1])\n",
        "\n",
        "  #new_image = augment_image(image)\n",
        "  #hashed_dataset_train.append(get_hash(lsh, new_image))\n",
        "  #mnist_labels_train.append(image[1])\n",
        "\n",
        "\n",
        "for image in dataset2_mnist:\n",
        "  hashed_dataset_test_1.append(get_hash(lsh, image))\n",
        "  mnist_labels_test_1.append(image[1])\n",
        "\n",
        "total_time = time.time() - start_time\n",
        "print('Total training time: {} seconds'.format(total_time))"
      ],
      "metadata": {
        "colab": {
          "base_uri": "https://localhost:8080/"
        },
        "outputId": "b17a57d3-1843-4c57-8b82-876e2039099d",
        "id": "hbE-gx8lKpd6"
      },
      "execution_count": null,
      "outputs": [
        {
          "output_type": "stream",
          "name": "stdout",
          "text": [
            "Total training time: 140.0478105545044 seconds\n"
          ]
        }
      ]
    },
    {
      "cell_type": "code",
      "source": [
        "hashed_dataset_train_1 = np.array(hashed_dataset_train_1)\n",
        "mnist_labels_train_1 = np.array(mnist_labels_train_1)\n",
        "\n",
        "hashed_dataset_test_1 = np.array(hashed_dataset_test_1)\n",
        "mnist_labels_test_1 = np.array(mnist_labels_test_1)"
      ],
      "metadata": {
        "id": "2MXrgUcxKpd7"
      },
      "execution_count": null,
      "outputs": []
    },
    {
      "cell_type": "code",
      "source": [
        "from torch.utils.data import TensorDataset, DataLoader\n",
        "\n",
        "start_time = time.time()\n",
        "\n",
        "train_tensor_x_1 = torch.Tensor(hashed_dataset_train_1) # transform to torch tensor\n",
        "train_tensor_y_1 = torch.Tensor(mnist_labels_train_1)\n",
        "\n",
        "# train_tensor_x = train_tensor_x.type(torch.LongTensor)\n",
        "train_tensor_y_1 = train_tensor_y_1.type(torch.LongTensor)\n",
        "\n",
        "hashed_dataset1_mnist_1 = TensorDataset(train_tensor_x_1, train_tensor_y_1) # create your datset\n",
        "\n",
        "test_tensor_x_1 = torch.Tensor(hashed_dataset_test_1) # transform to torch tensor\n",
        "test_tensor_y_1 = torch.Tensor(mnist_labels_test_1)\n",
        "\n",
        "# test_tensor_x = test_tensor_x.type(torch.LongTensor)\n",
        "test_tensor_y_1 = test_tensor_y_1.type(torch.LongTensor)\n",
        "\n",
        "hashed_dataset2_mnist_1 = TensorDataset(test_tensor_x_1,test_tensor_y_1) # create your datset\n",
        "\n",
        "\n",
        "total_time = time.time() - start_time\n",
        "print('Total training time: {} seconds'.format(total_time))"
      ],
      "metadata": {
        "colab": {
          "base_uri": "https://localhost:8080/"
        },
        "outputId": "275a5a60-49f7-4e4e-f786-f34045d86157",
        "id": "7kiSlpGYKpd8"
      },
      "execution_count": null,
      "outputs": [
        {
          "output_type": "stream",
          "name": "stdout",
          "text": [
            "Total training time: 0.007135629653930664 seconds\n"
          ]
        }
      ]
    },
    {
      "cell_type": "code",
      "source": [
        "train_loader_hashed_mnist_1 = torch.utils.data.DataLoader(hashed_dataset1_mnist_1)\n",
        "test_loader_hashed_mnist_1 = torch.utils.data.DataLoader(hashed_dataset2_mnist_1)"
      ],
      "metadata": {
        "id": "LGe4x7A9Kpd8"
      },
      "execution_count": null,
      "outputs": []
    },
    {
      "cell_type": "code",
      "source": [
        "class HashedMNISTNet(nn.Module):\n",
        "    def __init__(self, hidden=128):\n",
        "      super(HashedMNISTNet, self).__init__()\n",
        "\n",
        "      # First 2D convolutional layer, taking in 1 input channel (image),\n",
        "      # outputting 32 convolutional features, with a square kernel size of 3\n",
        "      self.hidden = hidden\n",
        "      self.fc1 = nn.Linear(1*20*2, self.hidden)\n",
        "      self.fc2 = nn.Linear(self.hidden, 10)\n",
        "\n",
        "    def forward(self, x):\n",
        "      x = x.view(-1, 2*20)\n",
        "      x = self.fc1(x)\n",
        "      x = F.relu(x)\n",
        "      x = self.fc2(x)\n",
        "      return F.log_softmax(x, dim=1)\n",
        "\n",
        "def train_mnist(model, device, train_loader, optimizer, epoch):\n",
        "    model.train()\n",
        "    for batch_idx, (data, target) in enumerate(train_loader):\n",
        "        data, target = data.to(device), target.to(device)\n",
        "        optimizer.zero_grad()\n",
        "        output = model(data)\n",
        "        loss = F.nll_loss(output, target)\n",
        "        loss.backward()\n",
        "        optimizer.step()\n",
        "        if batch_idx % 10000 == 0:\n",
        "            print('Train Epoch: {} [{}/{} ({:.0f}%)]\\tLoss: {:.6f}'.format(\n",
        "                epoch, batch_idx * len(data), len(train_loader.dataset),\n",
        "                100. * batch_idx / len(train_loader), loss.item()))\n",
        "\n",
        "\n",
        "def test_mnist(model, device, test_loader):\n",
        "    model.eval()\n",
        "    test_loss = 0\n",
        "    correct = 0\n",
        "    with torch.no_grad():\n",
        "        for data, target in test_loader:\n",
        "            data, target = data.to(device), target.to(device)\n",
        "            output = model(data)\n",
        "            test_loss += F.nll_loss(output, target, reduction='sum').item()  # sum up batch loss\n",
        "            pred = output.argmax(dim=1, keepdim=True)  # get the index of the max log-probability\n",
        "            correct += pred.eq(target.view_as(pred)).sum().item()\n",
        "\n",
        "    test_loss /= len(test_loader.dataset)\n",
        "\n",
        "    print('\\nTest set: Average loss: {:.4f}, Accuracy: {}/{} ({:.0f}%)\\n'.format(\n",
        "        test_loss, correct, len(test_loader.dataset),\n",
        "        100. * correct / len(test_loader.dataset)))"
      ],
      "metadata": {
        "id": "fdRRs8xqKpd8"
      },
      "execution_count": null,
      "outputs": []
    },
    {
      "cell_type": "code",
      "source": [
        "start_time = time.time()\n",
        "\n",
        "hash_model_1 = HashedMNISTNet()\n",
        "device = torch.device(\"cpu\")\n",
        "\n",
        "optimizer = optim.Adam(hash_model_1.parameters())\n",
        "\n",
        "scheduler = StepLR(optimizer, step_size=1, gamma=.1)\n",
        "for epoch in range(1, 5):\n",
        "    train_mnist(hash_model_1, device, train_loader_hashed_mnist_1, optimizer, epoch)\n",
        "    test_mnist(hash_model_1, device, test_loader_hashed_mnist_1)\n",
        "    scheduler.step()\n",
        "\n",
        "  \n",
        "total_time = time.time() - start_time\n",
        "print('Total training time: {} seconds'.format(total_time))\n"
      ],
      "metadata": {
        "colab": {
          "base_uri": "https://localhost:8080/"
        },
        "outputId": "1bf5d035-7e3f-40ce-e202-6adc615ec220",
        "id": "FVxH2XCMKpd9"
      },
      "execution_count": null,
      "outputs": [
        {
          "output_type": "stream",
          "name": "stdout",
          "text": [
            "Train Epoch: 1 [0/60000 (0%)]\tLoss: 2.093778\n",
            "Train Epoch: 1 [10000/60000 (17%)]\tLoss: 0.278482\n",
            "Train Epoch: 1 [20000/60000 (33%)]\tLoss: 0.058583\n",
            "Train Epoch: 1 [30000/60000 (50%)]\tLoss: 1.466283\n",
            "Train Epoch: 1 [40000/60000 (67%)]\tLoss: 0.233273\n",
            "Train Epoch: 1 [50000/60000 (83%)]\tLoss: 0.468375\n",
            "\n",
            "Test set: Average loss: 0.8497, Accuracy: 7250/10000 (72%)\n",
            "\n",
            "Train Epoch: 2 [0/60000 (0%)]\tLoss: 0.043655\n",
            "Train Epoch: 2 [10000/60000 (17%)]\tLoss: 0.031625\n",
            "Train Epoch: 2 [20000/60000 (33%)]\tLoss: 0.214824\n",
            "Train Epoch: 2 [30000/60000 (50%)]\tLoss: 1.017920\n",
            "Train Epoch: 2 [40000/60000 (67%)]\tLoss: 0.066655\n",
            "Train Epoch: 2 [50000/60000 (83%)]\tLoss: 0.589179\n",
            "\n",
            "Test set: Average loss: 0.6435, Accuracy: 7846/10000 (78%)\n",
            "\n",
            "Train Epoch: 3 [0/60000 (0%)]\tLoss: 0.038585\n",
            "Train Epoch: 3 [10000/60000 (17%)]\tLoss: 0.034772\n",
            "Train Epoch: 3 [20000/60000 (33%)]\tLoss: 0.347036\n",
            "Train Epoch: 3 [30000/60000 (50%)]\tLoss: 0.674925\n",
            "Train Epoch: 3 [40000/60000 (67%)]\tLoss: 0.069044\n",
            "Train Epoch: 3 [50000/60000 (83%)]\tLoss: 0.545475\n",
            "\n",
            "Test set: Average loss: 0.6313, Accuracy: 7878/10000 (79%)\n",
            "\n",
            "Train Epoch: 4 [0/60000 (0%)]\tLoss: 0.042139\n",
            "Train Epoch: 4 [10000/60000 (17%)]\tLoss: 0.038972\n",
            "Train Epoch: 4 [20000/60000 (33%)]\tLoss: 0.369045\n",
            "Train Epoch: 4 [30000/60000 (50%)]\tLoss: 0.665876\n",
            "Train Epoch: 4 [40000/60000 (67%)]\tLoss: 0.066599\n",
            "Train Epoch: 4 [50000/60000 (83%)]\tLoss: 0.529480\n",
            "\n",
            "Test set: Average loss: 0.6305, Accuracy: 7881/10000 (79%)\n",
            "\n",
            "Total training time: 206.43546152114868 seconds\n"
          ]
        }
      ]
    },
    {
      "cell_type": "code",
      "source": [
        "lsh = LSHash(4, 784, 20)\n",
        "\n",
        "\n",
        "start_time = time.time()\n",
        "\n",
        "hashed_dataset_train_1 = []\n",
        "mnist_labels_train_1 = []\n",
        "\n",
        "hashed_dataset_test_1 = []\n",
        "mnist_labels_test_1 = []\n",
        "\n",
        "for image in dataset1_mnist:\n",
        "  hashed_dataset_train_1.append(get_hash(lsh, image))\n",
        "  mnist_labels_train_1.append(image[1])\n",
        "\n",
        "  #new_image = augment_image(image)\n",
        "  #hashed_dataset_train.append(get_hash(lsh, new_image))\n",
        "  #mnist_labels_train.append(image[1])\n",
        "\n",
        "\n",
        "for image in dataset2_mnist:\n",
        "  hashed_dataset_test_1.append(get_hash(lsh, image))\n",
        "  mnist_labels_test_1.append(image[1])\n",
        "\n",
        "total_time = time.time() - start_time\n",
        "print('Total training time: {} seconds'.format(total_time))"
      ],
      "metadata": {
        "colab": {
          "base_uri": "https://localhost:8080/"
        },
        "outputId": "06ab458d-7097-4770-eaed-8cb5a6e6c63c",
        "id": "xD6-MOM0MuX7"
      },
      "execution_count": null,
      "outputs": [
        {
          "output_type": "stream",
          "name": "stdout",
          "text": [
            "Total training time: 159.7055480480194 seconds\n"
          ]
        }
      ]
    },
    {
      "cell_type": "code",
      "source": [
        "hashed_dataset_train_1 = np.array(hashed_dataset_train_1)\n",
        "mnist_labels_train_1 = np.array(mnist_labels_train_1)\n",
        "\n",
        "hashed_dataset_test_1 = np.array(hashed_dataset_test_1)\n",
        "mnist_labels_test_1 = np.array(mnist_labels_test_1)"
      ],
      "metadata": {
        "id": "6NejLTCdMuX8"
      },
      "execution_count": null,
      "outputs": []
    },
    {
      "cell_type": "code",
      "source": [
        "from torch.utils.data import TensorDataset, DataLoader\n",
        "\n",
        "start_time = time.time()\n",
        "\n",
        "train_tensor_x_1 = torch.Tensor(hashed_dataset_train_1) # transform to torch tensor\n",
        "train_tensor_y_1 = torch.Tensor(mnist_labels_train_1)\n",
        "\n",
        "# train_tensor_x = train_tensor_x.type(torch.LongTensor)\n",
        "train_tensor_y_1 = train_tensor_y_1.type(torch.LongTensor)\n",
        "\n",
        "hashed_dataset1_mnist_1 = TensorDataset(train_tensor_x_1, train_tensor_y_1) # create your datset\n",
        "\n",
        "test_tensor_x_1 = torch.Tensor(hashed_dataset_test_1) # transform to torch tensor\n",
        "test_tensor_y_1 = torch.Tensor(mnist_labels_test_1)\n",
        "\n",
        "# test_tensor_x = test_tensor_x.type(torch.LongTensor)\n",
        "test_tensor_y_1 = test_tensor_y_1.type(torch.LongTensor)\n",
        "\n",
        "hashed_dataset2_mnist_1 = TensorDataset(test_tensor_x_1,test_tensor_y_1) # create your datset\n",
        "\n",
        "\n",
        "total_time = time.time() - start_time\n",
        "print('Total training time: {} seconds'.format(total_time))"
      ],
      "metadata": {
        "colab": {
          "base_uri": "https://localhost:8080/"
        },
        "outputId": "0469f88b-6d38-4ba9-cffa-ba314e519353",
        "id": "y6eewY_kMuX8"
      },
      "execution_count": null,
      "outputs": [
        {
          "output_type": "stream",
          "name": "stdout",
          "text": [
            "Total training time: 0.01573324203491211 seconds\n"
          ]
        }
      ]
    },
    {
      "cell_type": "code",
      "source": [
        "train_loader_hashed_mnist_1 = torch.utils.data.DataLoader(hashed_dataset1_mnist_1)\n",
        "test_loader_hashed_mnist_1 = torch.utils.data.DataLoader(hashed_dataset2_mnist_1)"
      ],
      "metadata": {
        "id": "D6N2wlLSMuX9"
      },
      "execution_count": null,
      "outputs": []
    },
    {
      "cell_type": "code",
      "source": [
        "class HashedMNISTNet(nn.Module):\n",
        "    def __init__(self, hidden=128):\n",
        "      super(HashedMNISTNet, self).__init__()\n",
        "\n",
        "      # First 2D convolutional layer, taking in 1 input channel (image),\n",
        "      # outputting 32 convolutional features, with a square kernel size of 3\n",
        "      self.hidden = hidden\n",
        "      self.fc1 = nn.Linear(1*20*4, self.hidden)\n",
        "      self.fc2 = nn.Linear(self.hidden, 10)\n",
        "\n",
        "    def forward(self, x):\n",
        "      x = x.view(-1, 4*20)\n",
        "      x = self.fc1(x)\n",
        "      x = F.relu(x)\n",
        "      x = self.fc2(x)\n",
        "      return F.log_softmax(x, dim=1)\n",
        "\n",
        "def train_mnist(model, device, train_loader, optimizer, epoch):\n",
        "    model.train()\n",
        "    for batch_idx, (data, target) in enumerate(train_loader):\n",
        "        data, target = data.to(device), target.to(device)\n",
        "        optimizer.zero_grad()\n",
        "        output = model(data)\n",
        "        loss = F.nll_loss(output, target)\n",
        "        loss.backward()\n",
        "        optimizer.step()\n",
        "        if batch_idx % 10000 == 0:\n",
        "            print('Train Epoch: {} [{}/{} ({:.0f}%)]\\tLoss: {:.6f}'.format(\n",
        "                epoch, batch_idx * len(data), len(train_loader.dataset),\n",
        "                100. * batch_idx / len(train_loader), loss.item()))\n",
        "\n",
        "\n",
        "def test_mnist(model, device, test_loader):\n",
        "    model.eval()\n",
        "    test_loss = 0\n",
        "    correct = 0\n",
        "    with torch.no_grad():\n",
        "        for data, target in test_loader:\n",
        "            data, target = data.to(device), target.to(device)\n",
        "            output = model(data)\n",
        "            test_loss += F.nll_loss(output, target, reduction='sum').item()  # sum up batch loss\n",
        "            pred = output.argmax(dim=1, keepdim=True)  # get the index of the max log-probability\n",
        "            correct += pred.eq(target.view_as(pred)).sum().item()\n",
        "\n",
        "    test_loss /= len(test_loader.dataset)\n",
        "\n",
        "    print('\\nTest set: Average loss: {:.4f}, Accuracy: {}/{} ({:.0f}%)\\n'.format(\n",
        "        test_loss, correct, len(test_loader.dataset),\n",
        "        100. * correct / len(test_loader.dataset)))"
      ],
      "metadata": {
        "id": "krz4CzOfMuX9"
      },
      "execution_count": null,
      "outputs": []
    },
    {
      "cell_type": "code",
      "source": [
        "start_time = time.time()\n",
        "\n",
        "hash_model_1 = HashedMNISTNet()\n",
        "device = torch.device(\"cpu\")\n",
        "\n",
        "optimizer = optim.Adam(hash_model_1.parameters())\n",
        "\n",
        "scheduler = StepLR(optimizer, step_size=1, gamma=.1)\n",
        "for epoch in range(1, 5):\n",
        "    train_mnist(hash_model_1, device, train_loader_hashed_mnist_1, optimizer, epoch)\n",
        "    test_mnist(hash_model_1, device, test_loader_hashed_mnist_1)\n",
        "    scheduler.step()\n",
        "\n",
        "  \n",
        "total_time = time.time() - start_time\n",
        "print('Total training time: {} seconds'.format(total_time))\n"
      ],
      "metadata": {
        "colab": {
          "base_uri": "https://localhost:8080/"
        },
        "outputId": "515abb53-2607-46b3-90ca-be5b8b785d6e",
        "id": "R3CiLOTTMuX-"
      },
      "execution_count": null,
      "outputs": [
        {
          "output_type": "stream",
          "name": "stdout",
          "text": [
            "Train Epoch: 1 [0/60000 (0%)]\tLoss: 2.188493\n",
            "Train Epoch: 1 [10000/60000 (17%)]\tLoss: 0.005874\n",
            "Train Epoch: 1 [20000/60000 (33%)]\tLoss: 0.470455\n",
            "Train Epoch: 1 [30000/60000 (50%)]\tLoss: 0.151442\n",
            "Train Epoch: 1 [40000/60000 (67%)]\tLoss: 0.056024\n",
            "Train Epoch: 1 [50000/60000 (83%)]\tLoss: 1.292825\n",
            "\n",
            "Test set: Average loss: 0.4653, Accuracy: 8510/10000 (85%)\n",
            "\n",
            "Train Epoch: 2 [0/60000 (0%)]\tLoss: 3.908176\n",
            "Train Epoch: 2 [10000/60000 (17%)]\tLoss: 0.000119\n",
            "Train Epoch: 2 [20000/60000 (33%)]\tLoss: 0.696130\n",
            "Train Epoch: 2 [30000/60000 (50%)]\tLoss: 0.006373\n",
            "Train Epoch: 2 [40000/60000 (67%)]\tLoss: 0.001924\n",
            "Train Epoch: 2 [50000/60000 (83%)]\tLoss: 1.270410\n",
            "\n",
            "Test set: Average loss: 0.3504, Accuracy: 8900/10000 (89%)\n",
            "\n",
            "Train Epoch: 3 [0/60000 (0%)]\tLoss: 3.672068\n",
            "Train Epoch: 3 [10000/60000 (17%)]\tLoss: 0.000147\n",
            "Train Epoch: 3 [20000/60000 (33%)]\tLoss: 0.533002\n",
            "Train Epoch: 3 [30000/60000 (50%)]\tLoss: 0.005494\n",
            "Train Epoch: 3 [40000/60000 (67%)]\tLoss: 0.001457\n",
            "Train Epoch: 3 [50000/60000 (83%)]\tLoss: 1.058768\n",
            "\n",
            "Test set: Average loss: 0.3368, Accuracy: 8950/10000 (90%)\n",
            "\n",
            "Train Epoch: 4 [0/60000 (0%)]\tLoss: 3.458282\n",
            "Train Epoch: 4 [10000/60000 (17%)]\tLoss: 0.000138\n",
            "Train Epoch: 4 [20000/60000 (33%)]\tLoss: 0.456151\n",
            "Train Epoch: 4 [30000/60000 (50%)]\tLoss: 0.004343\n",
            "Train Epoch: 4 [40000/60000 (67%)]\tLoss: 0.001524\n",
            "Train Epoch: 4 [50000/60000 (83%)]\tLoss: 0.945552\n",
            "\n",
            "Test set: Average loss: 0.3358, Accuracy: 8955/10000 (90%)\n",
            "\n",
            "Total training time: 222.16959953308105 seconds\n"
          ]
        }
      ]
    },
    {
      "cell_type": "code",
      "source": [
        "lsh = LSHash(16, 784, 20)\n",
        "\n",
        "\n",
        "start_time = time.time()\n",
        "\n",
        "hashed_dataset_train_1 = []\n",
        "mnist_labels_train_1 = []\n",
        "\n",
        "hashed_dataset_test_1 = []\n",
        "mnist_labels_test_1 = []\n",
        "\n",
        "for image in dataset1_mnist:\n",
        "  hashed_dataset_train_1.append(get_hash(lsh, image))\n",
        "  mnist_labels_train_1.append(image[1])\n",
        "\n",
        "  #new_image = augment_image(image)\n",
        "  #hashed_dataset_train.append(get_hash(lsh, new_image))\n",
        "  #mnist_labels_train.append(image[1])\n",
        "\n",
        "\n",
        "for image in dataset2_mnist:\n",
        "  hashed_dataset_test_1.append(get_hash(lsh, image))\n",
        "  mnist_labels_test_1.append(image[1])\n",
        "\n",
        "total_time = time.time() - start_time\n",
        "print('Total training time: {} seconds'.format(total_time))"
      ],
      "metadata": {
        "colab": {
          "base_uri": "https://localhost:8080/"
        },
        "outputId": "d4c52db9-e5f6-42c2-e85c-afd76c6eaf93",
        "id": "x400vIBbOyz6"
      },
      "execution_count": null,
      "outputs": [
        {
          "output_type": "stream",
          "name": "stdout",
          "text": [
            "Total training time: 351.39496397972107 seconds\n"
          ]
        }
      ]
    },
    {
      "cell_type": "code",
      "source": [
        "hashed_dataset_train_1 = np.array(hashed_dataset_train_1)\n",
        "mnist_labels_train_1 = np.array(mnist_labels_train_1)\n",
        "\n",
        "hashed_dataset_test_1 = np.array(hashed_dataset_test_1)\n",
        "mnist_labels_test_1 = np.array(mnist_labels_test_1)"
      ],
      "metadata": {
        "id": "Apon_BZgOyz6"
      },
      "execution_count": null,
      "outputs": []
    },
    {
      "cell_type": "code",
      "source": [
        "from torch.utils.data import TensorDataset, DataLoader\n",
        "\n",
        "start_time = time.time()\n",
        "\n",
        "train_tensor_x_1 = torch.Tensor(hashed_dataset_train_1) # transform to torch tensor\n",
        "train_tensor_y_1 = torch.Tensor(mnist_labels_train_1)\n",
        "\n",
        "# train_tensor_x = train_tensor_x.type(torch.LongTensor)\n",
        "train_tensor_y_1 = train_tensor_y_1.type(torch.LongTensor)\n",
        "\n",
        "hashed_dataset1_mnist_1 = TensorDataset(train_tensor_x_1, train_tensor_y_1) # create your datset\n",
        "\n",
        "test_tensor_x_1 = torch.Tensor(hashed_dataset_test_1) # transform to torch tensor\n",
        "test_tensor_y_1 = torch.Tensor(mnist_labels_test_1)\n",
        "\n",
        "# test_tensor_x = test_tensor_x.type(torch.LongTensor)\n",
        "test_tensor_y_1 = test_tensor_y_1.type(torch.LongTensor)\n",
        "\n",
        "hashed_dataset2_mnist_1 = TensorDataset(test_tensor_x_1,test_tensor_y_1) # create your datset\n",
        "\n",
        "\n",
        "total_time = time.time() - start_time\n",
        "print('Total training time: {} seconds'.format(total_time))"
      ],
      "metadata": {
        "colab": {
          "base_uri": "https://localhost:8080/"
        },
        "outputId": "390a7344-d441-4b3a-e5a4-0603ba9bf2b6",
        "id": "DbN6ktmDOyz6"
      },
      "execution_count": null,
      "outputs": [
        {
          "output_type": "stream",
          "name": "stdout",
          "text": [
            "Total training time: 0.257434606552124 seconds\n"
          ]
        }
      ]
    },
    {
      "cell_type": "code",
      "source": [
        "train_loader_hashed_mnist_1 = torch.utils.data.DataLoader(hashed_dataset1_mnist_1)\n",
        "test_loader_hashed_mnist_1 = torch.utils.data.DataLoader(hashed_dataset2_mnist_1)"
      ],
      "metadata": {
        "id": "wLZQJN4MOyz7"
      },
      "execution_count": null,
      "outputs": []
    },
    {
      "cell_type": "code",
      "source": [
        "class HashedMNISTNet(nn.Module):\n",
        "    def __init__(self, hidden=128):\n",
        "      super(HashedMNISTNet, self).__init__()\n",
        "\n",
        "      # First 2D convolutional layer, taking in 1 input channel (image),\n",
        "      # outputting 32 convolutional features, with a square kernel size of 3\n",
        "      self.hidden = hidden\n",
        "      self.fc1 = nn.Linear(1*20*16, self.hidden)\n",
        "      self.fc2 = nn.Linear(self.hidden, 10)\n",
        "\n",
        "    def forward(self, x):\n",
        "      x = x.view(-1, 16*20)\n",
        "      x = self.fc1(x)\n",
        "      x = F.relu(x)\n",
        "      x = self.fc2(x)\n",
        "      return F.log_softmax(x, dim=1)\n",
        "\n",
        "def train_mnist(model, device, train_loader, optimizer, epoch):\n",
        "    model.train()\n",
        "    for batch_idx, (data, target) in enumerate(train_loader):\n",
        "        data, target = data.to(device), target.to(device)\n",
        "        optimizer.zero_grad()\n",
        "        output = model(data)\n",
        "        loss = F.nll_loss(output, target)\n",
        "        loss.backward()\n",
        "        optimizer.step()\n",
        "        if batch_idx % 10000 == 0:\n",
        "            print('Train Epoch: {} [{}/{} ({:.0f}%)]\\tLoss: {:.6f}'.format(\n",
        "                epoch, batch_idx * len(data), len(train_loader.dataset),\n",
        "                100. * batch_idx / len(train_loader), loss.item()))\n",
        "\n",
        "\n",
        "def test_mnist(model, device, test_loader):\n",
        "    model.eval()\n",
        "    test_loss = 0\n",
        "    correct = 0\n",
        "    with torch.no_grad():\n",
        "        for data, target in test_loader:\n",
        "            data, target = data.to(device), target.to(device)\n",
        "            output = model(data)\n",
        "            test_loss += F.nll_loss(output, target, reduction='sum').item()  # sum up batch loss\n",
        "            pred = output.argmax(dim=1, keepdim=True)  # get the index of the max log-probability\n",
        "            correct += pred.eq(target.view_as(pred)).sum().item()\n",
        "\n",
        "    test_loss /= len(test_loader.dataset)\n",
        "\n",
        "    print('\\nTest set: Average loss: {:.4f}, Accuracy: {}/{} ({:.0f}%)\\n'.format(\n",
        "        test_loss, correct, len(test_loader.dataset),\n",
        "        100. * correct / len(test_loader.dataset)))"
      ],
      "metadata": {
        "id": "0PPideI5Oyz7"
      },
      "execution_count": null,
      "outputs": []
    },
    {
      "cell_type": "code",
      "source": [
        "start_time = time.time()\n",
        "\n",
        "hash_model_1 = HashedMNISTNet()\n",
        "device = torch.device(\"cpu\")\n",
        "\n",
        "optimizer = optim.Adam(hash_model_1.parameters())\n",
        "\n",
        "scheduler = StepLR(optimizer, step_size=1, gamma=.1)\n",
        "for epoch in range(1, 5):\n",
        "    train_mnist(hash_model_1, device, train_loader_hashed_mnist_1, optimizer, epoch)\n",
        "    test_mnist(hash_model_1, device, test_loader_hashed_mnist_1)\n",
        "    scheduler.step()\n",
        "\n",
        "  \n",
        "total_time = time.time() - start_time\n",
        "print('Total training time: {} seconds'.format(total_time))\n"
      ],
      "metadata": {
        "colab": {
          "base_uri": "https://localhost:8080/"
        },
        "outputId": "c51c97c9-dbf4-4d8e-b613-a1695f74682e",
        "id": "W4YbJ4uLOyz7"
      },
      "execution_count": null,
      "outputs": [
        {
          "output_type": "stream",
          "name": "stdout",
          "text": [
            "Train Epoch: 1 [0/60000 (0%)]\tLoss: 2.428708\n",
            "Train Epoch: 1 [10000/60000 (17%)]\tLoss: 0.002504\n",
            "Train Epoch: 1 [20000/60000 (33%)]\tLoss: 0.000033\n",
            "Train Epoch: 1 [30000/60000 (50%)]\tLoss: 0.001285\n",
            "Train Epoch: 1 [40000/60000 (67%)]\tLoss: 0.000770\n",
            "Train Epoch: 1 [50000/60000 (83%)]\tLoss: 0.000044\n",
            "\n",
            "Test set: Average loss: 0.2823, Accuracy: 9175/10000 (92%)\n",
            "\n",
            "Train Epoch: 2 [0/60000 (0%)]\tLoss: 0.057711\n",
            "Train Epoch: 2 [10000/60000 (17%)]\tLoss: 0.000270\n",
            "Train Epoch: 2 [20000/60000 (33%)]\tLoss: 0.000040\n",
            "Train Epoch: 2 [30000/60000 (50%)]\tLoss: 0.000103\n",
            "Train Epoch: 2 [40000/60000 (67%)]\tLoss: 0.000422\n",
            "Train Epoch: 2 [50000/60000 (83%)]\tLoss: 0.000009\n",
            "\n",
            "Test set: Average loss: 0.1750, Accuracy: 9493/10000 (95%)\n",
            "\n",
            "Train Epoch: 3 [0/60000 (0%)]\tLoss: 0.002470\n",
            "Train Epoch: 3 [10000/60000 (17%)]\tLoss: 0.000183\n",
            "Train Epoch: 3 [20000/60000 (33%)]\tLoss: 0.000090\n",
            "Train Epoch: 3 [30000/60000 (50%)]\tLoss: 0.000167\n",
            "Train Epoch: 3 [40000/60000 (67%)]\tLoss: 0.000142\n",
            "Train Epoch: 3 [50000/60000 (83%)]\tLoss: 0.000021\n",
            "\n",
            "Test set: Average loss: 0.1618, Accuracy: 9508/10000 (95%)\n",
            "\n",
            "Train Epoch: 4 [0/60000 (0%)]\tLoss: 0.002647\n",
            "Train Epoch: 4 [10000/60000 (17%)]\tLoss: 0.000235\n",
            "Train Epoch: 4 [20000/60000 (33%)]\tLoss: 0.000095\n",
            "Train Epoch: 4 [30000/60000 (50%)]\tLoss: 0.000179\n",
            "Train Epoch: 4 [40000/60000 (67%)]\tLoss: 0.000125\n",
            "Train Epoch: 4 [50000/60000 (83%)]\tLoss: 0.000024\n",
            "\n",
            "Test set: Average loss: 0.1609, Accuracy: 9509/10000 (95%)\n",
            "\n",
            "Total training time: 519.8391735553741 seconds\n"
          ]
        }
      ]
    },
    {
      "cell_type": "code",
      "source": [
        "lsh = LSHash(32, 784, 20)\n",
        "\n",
        "\n",
        "start_time = time.time()\n",
        "\n",
        "hashed_dataset_train_1 = []\n",
        "mnist_labels_train_1 = []\n",
        "\n",
        "hashed_dataset_test_1 = []\n",
        "mnist_labels_test_1 = []\n",
        "\n",
        "for image in dataset1_mnist:\n",
        "  hashed_dataset_train_1.append(get_hash(lsh, image))\n",
        "  mnist_labels_train_1.append(image[1])\n",
        "\n",
        "  #new_image = augment_image(image)\n",
        "  #hashed_dataset_train.append(get_hash(lsh, new_image))\n",
        "  #mnist_labels_train.append(image[1])\n",
        "\n",
        "\n",
        "for image in dataset2_mnist:\n",
        "  hashed_dataset_test_1.append(get_hash(lsh, image))\n",
        "  mnist_labels_test_1.append(image[1])\n",
        "\n",
        "total_time = time.time() - start_time\n",
        "print('Total training time: {} seconds'.format(total_time))"
      ],
      "metadata": {
        "colab": {
          "base_uri": "https://localhost:8080/"
        },
        "outputId": "fde0d3be-f323-4291-de72-5827d193cf40",
        "id": "4XwwDuz0SObw"
      },
      "execution_count": null,
      "outputs": [
        {
          "output_type": "stream",
          "name": "stdout",
          "text": [
            "Total training time: 405.6617970466614 seconds\n"
          ]
        }
      ]
    },
    {
      "cell_type": "code",
      "source": [
        "hashed_dataset_train_1 = np.array(hashed_dataset_train_1)\n",
        "mnist_labels_train_1 = np.array(mnist_labels_train_1)\n",
        "\n",
        "hashed_dataset_test_1 = np.array(hashed_dataset_test_1)\n",
        "mnist_labels_test_1 = np.array(mnist_labels_test_1)"
      ],
      "metadata": {
        "id": "mj48VDoWSObx"
      },
      "execution_count": null,
      "outputs": []
    },
    {
      "cell_type": "code",
      "source": [
        "from torch.utils.data import TensorDataset, DataLoader\n",
        "\n",
        "start_time = time.time()\n",
        "\n",
        "train_tensor_x_1 = torch.Tensor(hashed_dataset_train_1) # transform to torch tensor\n",
        "train_tensor_y_1 = torch.Tensor(mnist_labels_train_1)\n",
        "\n",
        "# train_tensor_x = train_tensor_x.type(torch.LongTensor)\n",
        "train_tensor_y_1 = train_tensor_y_1.type(torch.LongTensor)\n",
        "\n",
        "hashed_dataset1_mnist_1 = TensorDataset(train_tensor_x_1, train_tensor_y_1) # create your datset\n",
        "\n",
        "test_tensor_x_1 = torch.Tensor(hashed_dataset_test_1) # transform to torch tensor\n",
        "test_tensor_y_1 = torch.Tensor(mnist_labels_test_1)\n",
        "\n",
        "# test_tensor_x = test_tensor_x.type(torch.LongTensor)\n",
        "test_tensor_y_1 = test_tensor_y_1.type(torch.LongTensor)\n",
        "\n",
        "hashed_dataset2_mnist_1 = TensorDataset(test_tensor_x_1,test_tensor_y_1) # create your datset\n",
        "\n",
        "\n",
        "total_time = time.time() - start_time\n",
        "print('Total training time: {} seconds'.format(total_time))"
      ],
      "metadata": {
        "colab": {
          "base_uri": "https://localhost:8080/"
        },
        "outputId": "3d535420-4cc8-46e2-b319-c99bbeb8e612",
        "id": "ZpDTb8RySObx"
      },
      "execution_count": null,
      "outputs": [
        {
          "output_type": "stream",
          "name": "stdout",
          "text": [
            "Total training time: 0.2692852020263672 seconds\n"
          ]
        }
      ]
    },
    {
      "cell_type": "code",
      "source": [
        "train_loader_hashed_mnist_1 = torch.utils.data.DataLoader(hashed_dataset1_mnist_1)\n",
        "test_loader_hashed_mnist_1 = torch.utils.data.DataLoader(hashed_dataset2_mnist_1)"
      ],
      "metadata": {
        "id": "T7ppAqq1SOby"
      },
      "execution_count": null,
      "outputs": []
    },
    {
      "cell_type": "code",
      "source": [
        "class HashedMNISTNet(nn.Module):\n",
        "    def __init__(self, hidden=128):\n",
        "      super(HashedMNISTNet, self).__init__()\n",
        "\n",
        "      # First 2D convolutional layer, taking in 1 input channel (image),\n",
        "      # outputting 32 convolutional features, with a square kernel size of 3\n",
        "      self.hidden = hidden\n",
        "      self.fc1 = nn.Linear(1*20*32, self.hidden)\n",
        "      self.fc2 = nn.Linear(self.hidden, 10)\n",
        "\n",
        "    def forward(self, x):\n",
        "      x = x.view(-1, 32*20)\n",
        "      x = self.fc1(x)\n",
        "      x = F.relu(x)\n",
        "      x = self.fc2(x)\n",
        "      return F.log_softmax(x, dim=1)\n",
        "\n",
        "def train_mnist(model, device, train_loader, optimizer, epoch):\n",
        "    model.train()\n",
        "    for batch_idx, (data, target) in enumerate(train_loader):\n",
        "        data, target = data.to(device), target.to(device)\n",
        "        optimizer.zero_grad()\n",
        "        output = model(data)\n",
        "        loss = F.nll_loss(output, target)\n",
        "        loss.backward()\n",
        "        optimizer.step()\n",
        "        if batch_idx % 10000 == 0:\n",
        "            print('Train Epoch: {} [{}/{} ({:.0f}%)]\\tLoss: {:.6f}'.format(\n",
        "                epoch, batch_idx * len(data), len(train_loader.dataset),\n",
        "                100. * batch_idx / len(train_loader), loss.item()))\n",
        "\n",
        "\n",
        "def test_mnist(model, device, test_loader):\n",
        "    model.eval()\n",
        "    test_loss = 0\n",
        "    correct = 0\n",
        "    with torch.no_grad():\n",
        "        for data, target in test_loader:\n",
        "            data, target = data.to(device), target.to(device)\n",
        "            output = model(data)\n",
        "            test_loss += F.nll_loss(output, target, reduction='sum').item()  # sum up batch loss\n",
        "            pred = output.argmax(dim=1, keepdim=True)  # get the index of the max log-probability\n",
        "            correct += pred.eq(target.view_as(pred)).sum().item()\n",
        "\n",
        "    test_loss /= len(test_loader.dataset)\n",
        "\n",
        "    print('\\nTest set: Average loss: {:.4f}, Accuracy: {}/{} ({:.0f}%)\\n'.format(\n",
        "        test_loss, correct, len(test_loader.dataset),\n",
        "        100. * correct / len(test_loader.dataset)))"
      ],
      "metadata": {
        "id": "ZzVNrfdlSOby"
      },
      "execution_count": null,
      "outputs": []
    },
    {
      "cell_type": "code",
      "source": [
        "start_time = time.time()\n",
        "\n",
        "hash_model_1 = HashedMNISTNet()\n",
        "device = torch.device(\"cpu\")\n",
        "\n",
        "optimizer = optim.Adam(hash_model_1.parameters())\n",
        "\n",
        "scheduler = StepLR(optimizer, step_size=1, gamma=.1)\n",
        "for epoch in range(1, 5):\n",
        "    train_mnist(hash_model_1, device, train_loader_hashed_mnist_1, optimizer, epoch)\n",
        "    test_mnist(hash_model_1, device, test_loader_hashed_mnist_1)\n",
        "    scheduler.step()\n",
        "\n",
        "  \n",
        "total_time = time.time() - start_time\n",
        "print('Total training time: {} seconds'.format(total_time))\n"
      ],
      "metadata": {
        "colab": {
          "base_uri": "https://localhost:8080/"
        },
        "outputId": "4e89558e-b99c-4f7d-9fcc-f2ea0b14fcd6",
        "id": "RYkzYYvvSObz"
      },
      "execution_count": null,
      "outputs": [
        {
          "output_type": "stream",
          "name": "stdout",
          "text": [
            "Train Epoch: 1 [0/60000 (0%)]\tLoss: 2.344232\n",
            "Train Epoch: 1 [10000/60000 (17%)]\tLoss: 0.007709\n",
            "Train Epoch: 1 [20000/60000 (33%)]\tLoss: 0.000016\n",
            "Train Epoch: 1 [30000/60000 (50%)]\tLoss: 0.001254\n",
            "Train Epoch: 1 [40000/60000 (67%)]\tLoss: 0.001332\n",
            "Train Epoch: 1 [50000/60000 (83%)]\tLoss: 0.005386\n",
            "\n",
            "Test set: Average loss: 0.4380, Accuracy: 8824/10000 (88%)\n",
            "\n",
            "Train Epoch: 2 [0/60000 (0%)]\tLoss: 3.464228\n",
            "Train Epoch: 2 [10000/60000 (17%)]\tLoss: 0.000000\n",
            "Train Epoch: 2 [20000/60000 (33%)]\tLoss: 0.000148\n",
            "Train Epoch: 2 [30000/60000 (50%)]\tLoss: 0.000239\n",
            "Train Epoch: 2 [40000/60000 (67%)]\tLoss: 0.000038\n",
            "Train Epoch: 2 [50000/60000 (83%)]\tLoss: 0.000026\n",
            "\n",
            "Test set: Average loss: 0.1542, Accuracy: 9532/10000 (95%)\n",
            "\n",
            "Train Epoch: 3 [0/60000 (0%)]\tLoss: 0.029568\n",
            "Train Epoch: 3 [10000/60000 (17%)]\tLoss: 0.000000\n",
            "Train Epoch: 3 [20000/60000 (33%)]\tLoss: 0.000079\n",
            "Train Epoch: 3 [30000/60000 (50%)]\tLoss: 0.000078\n",
            "Train Epoch: 3 [40000/60000 (67%)]\tLoss: 0.000022\n",
            "Train Epoch: 3 [50000/60000 (83%)]\tLoss: 0.000052\n",
            "\n",
            "Test set: Average loss: 0.1403, Accuracy: 9576/10000 (96%)\n",
            "\n",
            "Train Epoch: 4 [0/60000 (0%)]\tLoss: 0.066343\n",
            "Train Epoch: 4 [10000/60000 (17%)]\tLoss: 0.000000\n",
            "Train Epoch: 4 [20000/60000 (33%)]\tLoss: 0.000068\n",
            "Train Epoch: 4 [30000/60000 (50%)]\tLoss: 0.000071\n",
            "Train Epoch: 4 [40000/60000 (67%)]\tLoss: 0.000027\n",
            "Train Epoch: 4 [50000/60000 (83%)]\tLoss: 0.000080\n",
            "\n",
            "Test set: Average loss: 0.1396, Accuracy: 9580/10000 (96%)\n",
            "\n",
            "Total training time: 1020.9532837867737 seconds\n"
          ]
        }
      ]
    },
    {
      "cell_type": "markdown",
      "source": [
        "# **VISUALIZATION AND TRENDS**"
      ],
      "metadata": {
        "id": "GZ4q3f7F1Cpm"
      }
    },
    {
      "cell_type": "code",
      "source": [
        "import matplotlib.pyplot as plt"
      ],
      "metadata": {
        "id": "jXzjpW4OSWkj"
      },
      "execution_count": null,
      "outputs": []
    },
    {
      "cell_type": "code",
      "source": [
        "x_values = np.array([1, 2, 4, 8, 16, 32])\n",
        "y_values = np.array([0.6734, 0.7881, 0.8955, 0.9288, 0.9509, 0.9580])\n",
        "# specifying horizontal line type\n",
        "plt.axhline(y = 0.9741, color = 'r', label=\"Non-hashed MNIST test accuracy\")\n",
        "plt.title(\"Bit Width of Hash Values Versus Test Accuracy\")\n",
        "plt.xlabel(\"Bit width\")\n",
        "plt.ylabel(\"Test accuracy\")\n",
        "plt.plot(x_values, y_values, label=\"Hashed accuracies\")\n",
        "plt.legend()\n",
        "plt.show()"
      ],
      "metadata": {
        "colab": {
          "base_uri": "https://localhost:8080/",
          "height": 295
        },
        "id": "zktpN2caYWed",
        "outputId": "439b1d7c-5ce8-46d5-948e-676a2bd21c39"
      },
      "execution_count": null,
      "outputs": [
        {
          "output_type": "display_data",
          "data": {
            "text/plain": [
              "<Figure size 432x288 with 1 Axes>"
            ],
            "image/png": "[encoded data removed]"
          },
          "metadata": {
            "needs_background": "light"
          }
        }
      ]
    },
    {
      "cell_type": "code",
      "source": [
        "preprocess_times = np.array([173.8, 140, 159.7, 160.5, 351.4, 405.7])\n",
        "\n",
        "plt.plot(x_values, preprocess_times)\n",
        "\n",
        "plt.title(\"Bit Width of Hash Values Versus Preprocessing (Hashing) Time\")\n",
        "plt.xlabel(\"Bit width\")\n",
        "plt.ylabel(\"Preprocessing Time (seconds)\")\n",
        "# plt.legend()\n",
        "plt.show()"
      ],
      "metadata": {
        "colab": {
          "base_uri": "https://localhost:8080/",
          "height": 295
        },
        "id": "mqmtwMI4ZD6K",
        "outputId": "c4181efd-e943-4af0-c765-0287cda9a259"
      },
      "execution_count": null,
      "outputs": [
        {
          "output_type": "display_data",
          "data": {
            "text/plain": [
              "<Figure size 432x288 with 1 Axes>"
            ],
            "image/png": "[encoded data removed]"
          },
          "metadata": {
            "needs_background": "light"
          }
        }
      ]
    },
    {
      "cell_type": "code",
      "source": [
        "training_times = np.array([196.8, 206.4, 222.2, 294.2, 519.8, 1020.9])\n",
        "\n",
        "plt.plot(x_values, training_times)\n",
        "\n",
        "plt.title(\"Bit Width of Hash Values Versus Network Training Time\")\n",
        "plt.xlabel(\"Bit width\")\n",
        "plt.ylabel(\"Training Time (seconds)\")\n",
        "# plt.legend()\n",
        "plt.show()\n"
      ],
      "metadata": {
        "colab": {
          "base_uri": "https://localhost:8080/",
          "height": 295
        },
        "id": "99Qd-D4sZ-G6",
        "outputId": "46c4dd81-5af6-4d1f-8da6-c3bf3ddede18"
      },
      "execution_count": null,
      "outputs": [
        {
          "output_type": "display_data",
          "data": {
            "text/plain": [
              "<Figure size 432x288 with 1 Axes>"
            ],
            "image/png": "[encoded data removed]"
          },
          "metadata": {
            "needs_background": "light"
          }
        }
      ]
    },
    {
      "cell_type": "code",
      "source": [
        "total_times = preprocess_times + training_times\n",
        "plt.plot(x_values, total_times, label=\"Total Time\")\n",
        "\n",
        "plt.plot(x_values, preprocess_times, label=\"Preprocessing Time\")\n",
        "plt.plot(x_values, training_times, label=\"Training Time\")\n",
        "plt.title(\"Bit Width of Hash Values Versus Total Time Usage\")\n",
        "plt.xlabel(\"Bit width\")\n",
        "plt.ylabel(\"Time (seconds)\")\n",
        "plt.legend()\n",
        "plt.show()"
      ],
      "metadata": {
        "colab": {
          "base_uri": "https://localhost:8080/",
          "height": 295
        },
        "id": "Du1UkULDanvJ",
        "outputId": "a4bad347-eaf3-4243-f0c8-37636859b0a8"
      },
      "execution_count": null,
      "outputs": [
        {
          "output_type": "display_data",
          "data": {
            "text/plain": [
              "<Figure size 432x288 with 1 Axes>"
            ],
            "image/png": "[encoded data removed]"
          },
          "metadata": {
            "needs_background": "light"
          }
        }
      ]
    },
    {
      "cell_type": "code",
      "source": [],
      "metadata": {
        "id": "LrSKFBkca4RH"
      },
      "execution_count": null,
      "outputs": []
    }
  ]
}